{
 "cells": [
  {
   "cell_type": "markdown",
   "metadata": {},
   "source": [
    "## 训练过程中将callbacks作用于模型"
   ]
  },
  {
   "cell_type": "markdown",
   "metadata": {},
   "source": [
    "当观测到验证损失不再改善时就停止训练。这可以使用`callbacks`来实现。\n",
    "\n",
    "**callbacks**是在调用`fit`方法时传入模型的一个对象（即实现特定方法的类实例），它在训练过程中的不同时间点都会被模型调用。它可以访问关于模型状态和性能的所有可用数据，还可以采取行动：中断训练、保存模型、加载一组不同的权重或改变模型的状态。"
   ]
  },
  {
   "cell_type": "markdown",
   "metadata": {},
   "source": [
    "### `ModelCheckpoint`与`EarlyStopping` callbacks"
   ]
  },
  {
   "cell_type": "markdown",
   "metadata": {},
   "source": [
    "如果监控的目标指标在设定的`epochs`内不再改善，可以用`EarlyStopping` callback来中断训练。这个函数通常与`ModelCheckpoint`结合使用，后者可以在训练过程中持续不断地保存模型。"
   ]
  },
  {
   "cell_type": "code",
   "execution_count": 1,
   "metadata": {
    "ExecuteTime": {
     "end_time": "2018-09-18T12:31:55.893669Z",
     "start_time": "2018-09-18T12:31:54.872219Z"
    }
   },
   "outputs": [
    {
     "name": "stderr",
     "output_type": "stream",
     "text": [
      "Using TensorFlow backend.\n"
     ]
    },
    {
     "data": {
      "text/plain": [
       "'2.2.2'"
      ]
     },
     "execution_count": 1,
     "metadata": {},
     "output_type": "execute_result"
    }
   ],
   "source": [
    "import keras\n",
    "keras.__version__"
   ]
  },
  {
   "cell_type": "markdown",
   "metadata": {},
   "source": [
    "```python\n",
    "callbacks_list = [  # 模型不再改善，就中断训练\n",
    "    keras.callbacks.EarlyStopping(monitor='val_acc',  # 监控模型的验证精度\n",
    "                                  patience=1,  # 如果精度在多于1轮的时间内不再改善，中断训练\n",
    "                                  verbose=0,\n",
    "                                  mode='auto'),\n",
    "    keras.callbacks.ModelCheckpoint(filepath='my_model.h5',  # 在每轮过后保存当前权重\n",
    "                                    monitor='val_loss',\n",
    "                                    save_best_only=True,\n",
    "                                    save_weights_only=False,  # 若为True，只保存模型权重\n",
    "                                    mode='auto',\n",
    "                                    period=1)]   # Checkpint之间间隔的epoch数\n",
    "\n",
    "model.compile(optimizer='rmsprop',\n",
    "              loss='binary_crossentropy',\n",
    "              metrics=['acc'])  # 监控accuracy，所以它应该是模型指标的一部分\n",
    "\n",
    "# 因为callback要监控验证精度和验证损失，所以在调用`fit`时需要传入`validation_data`\n",
    "model.fit(X, y,\n",
    "          epochs=10,\n",
    "          batch_size=32,\n",
    "          callbacks=callbacks_list,\n",
    "          validation_data(X_val, y_val))\n",
    "```"
   ]
  },
  {
   "cell_type": "markdown",
   "metadata": {},
   "source": [
    "### `ReduceLROnPlateau` callback"
   ]
  },
  {
   "cell_type": "markdown",
   "metadata": {},
   "source": [
    "如果验证损失不再改善，可以使用这个callback来降低学习率。在训练过程中如果出现了**损失平台（loss plateau）**，那么增大或减小学习率都是跳出局部最小值的有效策略。"
   ]
  },
  {
   "cell_type": "markdown",
   "metadata": {},
   "source": [
    "```python\n",
    "callbacks_list = [\n",
    "    keras.callbacks.ReduceLROnPlateau(monitor='val_loss',  # 监控模型的验证损失\n",
    "                                      factor=0.1,  # 触发时将学习率除以10\n",
    "                                      patience=10)  # 如果验证损失在10轮内后都没有改善，那么就触发这个callback\n",
    "]\n",
    "\n",
    "# 因为callback要监控验证精度和验证损失，所以在调用`fit`时需要传入`validation_data`\n",
    "model.fit(X, y,\n",
    "          epochs=10,\n",
    "          batch_size=32\n",
    "          callbacks=callbacks_list,\n",
    "          validation_data=(X_val, y_val))\n",
    "```"
   ]
  }
 ],
 "metadata": {
  "kernelspec": {
   "display_name": "Python [conda env:tf]",
   "language": "python",
   "name": "conda-env-tf-py"
  },
  "language_info": {
   "codemirror_mode": {
    "name": "ipython",
    "version": 3
   },
   "file_extension": ".py",
   "mimetype": "text/x-python",
   "name": "python",
   "nbconvert_exporter": "python",
   "pygments_lexer": "ipython3",
   "version": "3.6.2"
  },
  "toc": {
   "base_numbering": 1,
   "nav_menu": {},
   "number_sections": true,
   "sideBar": true,
   "skip_h1_title": false,
   "title_cell": "Table of Contents",
   "title_sidebar": "Contents",
   "toc_cell": false,
   "toc_position": {},
   "toc_section_display": true,
   "toc_window_display": false
  },
  "varInspector": {
   "cols": {
    "lenName": 16,
    "lenType": 16,
    "lenVar": 40
   },
   "kernels_config": {
    "python": {
     "delete_cmd_postfix": "",
     "delete_cmd_prefix": "del ",
     "library": "var_list.py",
     "varRefreshCmd": "print(var_dic_list())"
    },
    "r": {
     "delete_cmd_postfix": ") ",
     "delete_cmd_prefix": "rm(",
     "library": "var_list.r",
     "varRefreshCmd": "cat(var_dic_list()) "
    }
   },
   "types_to_exclude": [
    "module",
    "function",
    "builtin_function_or_method",
    "instance",
    "_Feature"
   ],
   "window_display": false
  }
 },
 "nbformat": 4,
 "nbformat_minor": 2
}
