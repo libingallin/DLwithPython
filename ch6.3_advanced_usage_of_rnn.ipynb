{
 "cells": [
  {
   "cell_type": "markdown",
   "metadata": {},
   "source": [
    "## 循环神经网络的高级用法"
   ]
  },
  {
   "cell_type": "markdown",
   "metadata": {},
   "source": [
    "### 温度预测问题（加载数据）"
   ]
  },
  {
   "cell_type": "markdown",
   "metadata": {},
   "source": [
    "数据集中每10分钟记录14个不同的量，其中包含多年的记录。\n",
    "\n",
    "输入最近的一些数据（几天的数据点），来预测24小时之后的气温。"
   ]
  },
  {
   "cell_type": "code",
   "execution_count": 1,
   "metadata": {
    "ExecuteTime": {
     "end_time": "2018-09-18T13:13:10.030837Z",
     "start_time": "2018-09-18T13:13:09.976262Z"
    },
    "collapsed": true
   },
   "outputs": [],
   "source": [
    "import os \n",
    "\n",
    "data_dir = '/home/bingli/Downloads/jena_climate'\n",
    "fname = os.path.join(data_dir, 'jena_climate_2009_2016.csv')\n",
    "\n",
    "f = open(fname)\n",
    "data = f.read()\n",
    "f.close()"
   ]
  },
  {
   "cell_type": "code",
   "execution_count": 2,
   "metadata": {
    "ExecuteTime": {
     "end_time": "2018-09-18T13:13:10.129054Z",
     "start_time": "2018-09-18T13:13:10.033060Z"
    },
    "collapsed": true
   },
   "outputs": [],
   "source": [
    "lines = data.split('\\n')\n",
    "headers = lines[0].split(',')\n",
    "lines = lines[1:]"
   ]
  },
  {
   "cell_type": "code",
   "execution_count": 3,
   "metadata": {
    "ExecuteTime": {
     "end_time": "2018-09-18T13:13:10.144812Z",
     "start_time": "2018-09-18T13:13:10.132049Z"
    }
   },
   "outputs": [
    {
     "data": {
      "text/plain": [
       "['\"Date Time\"',\n",
       " '\"p (mbar)\"',\n",
       " '\"T (degC)\"',\n",
       " '\"Tpot (K)\"',\n",
       " '\"Tdew (degC)\"',\n",
       " '\"rh (%)\"',\n",
       " '\"VPmax (mbar)\"',\n",
       " '\"VPact (mbar)\"',\n",
       " '\"VPdef (mbar)\"',\n",
       " '\"sh (g/kg)\"',\n",
       " '\"H2OC (mmol/mol)\"',\n",
       " '\"rho (g/m**3)\"',\n",
       " '\"wv (m/s)\"',\n",
       " '\"max. wv (m/s)\"',\n",
       " '\"wd (deg)\"']"
      ]
     },
     "execution_count": 3,
     "metadata": {},
     "output_type": "execute_result"
    }
   ],
   "source": [
    "headers"
   ]
  },
  {
   "cell_type": "code",
   "execution_count": 4,
   "metadata": {
    "ExecuteTime": {
     "end_time": "2018-09-18T13:13:10.150137Z",
     "start_time": "2018-09-18T13:13:10.146892Z"
    }
   },
   "outputs": [
    {
     "data": {
      "text/plain": [
       "420551"
      ]
     },
     "execution_count": 4,
     "metadata": {},
     "output_type": "execute_result"
    }
   ],
   "source": [
    "len(lines)"
   ]
  },
  {
   "cell_type": "code",
   "execution_count": 5,
   "metadata": {
    "ExecuteTime": {
     "end_time": "2018-09-18T13:13:10.155991Z",
     "start_time": "2018-09-18T13:13:10.152142Z"
    }
   },
   "outputs": [
    {
     "data": {
      "text/plain": [
       "['01.01.2009 00:10:00,996.52,-8.02,265.40,-8.90,93.30,3.33,3.11,0.22,1.94,3.12,1307.75,1.03,1.75,152.30',\n",
       " '01.01.2009 00:20:00,996.57,-8.41,265.01,-9.28,93.40,3.23,3.02,0.21,1.89,3.03,1309.80,0.72,1.50,136.10',\n",
       " '01.01.2009 00:30:00,996.53,-8.51,264.91,-9.31,93.90,3.21,3.01,0.20,1.88,3.02,1310.24,0.19,0.63,171.60',\n",
       " '01.01.2009 00:40:00,996.51,-8.31,265.12,-9.07,94.20,3.26,3.07,0.19,1.92,3.08,1309.19,0.34,0.50,198.00',\n",
       " '01.01.2009 00:50:00,996.51,-8.27,265.15,-9.04,94.10,3.27,3.08,0.19,1.92,3.09,1309.00,0.32,0.63,214.30']"
      ]
     },
     "execution_count": 5,
     "metadata": {},
     "output_type": "execute_result"
    }
   ],
   "source": [
    "lines[:5]"
   ]
  },
  {
   "cell_type": "code",
   "execution_count": 6,
   "metadata": {
    "ExecuteTime": {
     "end_time": "2018-09-18T13:13:10.508555Z",
     "start_time": "2018-09-18T13:13:10.157807Z"
    },
    "collapsed": true
   },
   "outputs": [],
   "source": [
    "import numpy as np\n",
    "\n",
    "# To plot pretty figures\n",
    "%matplotlib inline\n",
    "import matplotlib\n",
    "import matplotlib.pyplot as plt\n",
    "plt.rcParams['axes.labelsize'] = 14\n",
    "plt.rcParams['xtick.labelsize'] = 12\n",
    "plt.rcParams['ytick.labelsize'] = 12"
   ]
  },
  {
   "cell_type": "code",
   "execution_count": 7,
   "metadata": {
    "ExecuteTime": {
     "end_time": "2018-09-18T13:13:12.775532Z",
     "start_time": "2018-09-18T13:13:10.510512Z"
    },
    "collapsed": true
   },
   "outputs": [],
   "source": [
    "float_data = np.zeros((len(lines), len(headers) - 1))\n",
    "for i, line in enumerate(lines):\n",
    "    values = [float(x) for x in line.split(',')[1:]]\n",
    "    float_data[i, :] = values"
   ]
  },
  {
   "cell_type": "code",
   "execution_count": 8,
   "metadata": {
    "ExecuteTime": {
     "end_time": "2018-09-18T13:13:12.782300Z",
     "start_time": "2018-09-18T13:13:12.777335Z"
    }
   },
   "outputs": [
    {
     "data": {
      "text/plain": [
       "array([[ 9.96520e+02, -8.02000e+00,  2.65400e+02, -8.90000e+00,\n",
       "         9.33000e+01,  3.33000e+00,  3.11000e+00,  2.20000e-01,\n",
       "         1.94000e+00,  3.12000e+00,  1.30775e+03,  1.03000e+00,\n",
       "         1.75000e+00,  1.52300e+02],\n",
       "       [ 9.96570e+02, -8.41000e+00,  2.65010e+02, -9.28000e+00,\n",
       "         9.34000e+01,  3.23000e+00,  3.02000e+00,  2.10000e-01,\n",
       "         1.89000e+00,  3.03000e+00,  1.30980e+03,  7.20000e-01,\n",
       "         1.50000e+00,  1.36100e+02],\n",
       "       [ 9.96530e+02, -8.51000e+00,  2.64910e+02, -9.31000e+00,\n",
       "         9.39000e+01,  3.21000e+00,  3.01000e+00,  2.00000e-01,\n",
       "         1.88000e+00,  3.02000e+00,  1.31024e+03,  1.90000e-01,\n",
       "         6.30000e-01,  1.71600e+02],\n",
       "       [ 9.96510e+02, -8.31000e+00,  2.65120e+02, -9.07000e+00,\n",
       "         9.42000e+01,  3.26000e+00,  3.07000e+00,  1.90000e-01,\n",
       "         1.92000e+00,  3.08000e+00,  1.30919e+03,  3.40000e-01,\n",
       "         5.00000e-01,  1.98000e+02],\n",
       "       [ 9.96510e+02, -8.27000e+00,  2.65150e+02, -9.04000e+00,\n",
       "         9.41000e+01,  3.27000e+00,  3.08000e+00,  1.90000e-01,\n",
       "         1.92000e+00,  3.09000e+00,  1.30900e+03,  3.20000e-01,\n",
       "         6.30000e-01,  2.14300e+02]])"
      ]
     },
     "execution_count": 8,
     "metadata": {},
     "output_type": "execute_result"
    }
   ],
   "source": [
    "float_data[:5]"
   ]
  },
  {
   "cell_type": "code",
   "execution_count": 9,
   "metadata": {
    "ExecuteTime": {
     "end_time": "2018-09-18T13:13:13.080956Z",
     "start_time": "2018-09-18T13:13:12.784573Z"
    }
   },
   "outputs": [
    {
     "data": {
      "image/png": "[encoded data removed]",
      "text/plain": [
       "<Figure size 432x288 with 1 Axes>"
      ]
     },
     "metadata": {},
     "output_type": "display_data"
    }
   ],
   "source": [
    "# 绘制温度时间序列\n",
    "temp = float_data[:, 1]  # 温度\n",
    "plt.plot(range(len(temp)), temp)\n",
    "plt.show()"
   ]
  },
  {
   "cell_type": "code",
   "execution_count": 10,
   "metadata": {
    "ExecuteTime": {
     "end_time": "2018-09-18T13:13:13.208442Z",
     "start_time": "2018-09-18T13:13:13.082987Z"
    }
   },
   "outputs": [
    {
     "data": {
      "image/png": "[encoded data removed]",
      "text/plain": [
       "<Figure size 432x288 with 1 Axes>"
      ]
     },
     "metadata": {},
     "output_type": "display_data"
    }
   ],
   "source": [
    "# 绘制前10天的温度时间序列\n",
    "plt.plot(range(1440), temp[:1440])\n",
    "plt.show()"
   ]
  },
  {
   "cell_type": "markdown",
   "metadata": {
    "collapsed": true
   },
   "source": [
    "### 准备数据"
   ]
  },
  {
   "cell_type": "code",
   "execution_count": 11,
   "metadata": {
    "ExecuteTime": {
     "end_time": "2018-09-18T13:13:13.279335Z",
     "start_time": "2018-09-18T13:13:13.210511Z"
    },
    "collapsed": true
   },
   "outputs": [],
   "source": [
    "# standard，前200000个时间步作为训练数据\n",
    "mean = float_data[:200000].mean(axis=0)\n",
    "float_data -= mean\n",
    "std = float_data[:200000].std(axis=0)\n",
    "float_data /= std"
   ]
  },
  {
   "cell_type": "code",
   "execution_count": 12,
   "metadata": {
    "ExecuteTime": {
     "end_time": "2018-09-18T13:13:13.321752Z",
     "start_time": "2018-09-18T13:13:13.281413Z"
    },
    "collapsed": true
   },
   "outputs": [],
   "source": [
    "# 生成时间序列样本及其目标的生成器\n",
    "\n",
    "\n",
    "def generator(data, lookback, delay, min_index, max_index,\n",
    "              shuffle=False, batch_size=128, step=6):\n",
    "    \"\"\"生成一个元组(samples, targets)，其中samples是输入数据的一个批量，targets是对应\n",
    "    的目标温度数据。\n",
    "    data: 浮点数据组成的原始数组\n",
    "    lookback：输入数据应该包括过去多少个时间步\n",
    "    delay：目标应该在未来多少个时间步之后\n",
    "    min_index和max_index：data数组中的索引，用于界定需要抽取哪些时间步\n",
    "    shuffle：打乱样本，还是按顺序抽取样本\n",
    "    step：数据采样的周期（单位：时间步）\n",
    "    batch_size：每个批量的样本数\"\"\"\n",
    "    if max_index is None:\n",
    "        max_index = len(data) - delay - 1\n",
    "    i = min_index + lookback\n",
    "\n",
    "    while 1:\n",
    "        if shuffle:\n",
    "            rows = np.random.randint(\n",
    "                min_index+lookback, max_index, size=batch_size)\n",
    "        else:\n",
    "            if i + batch_size >= max_index:\n",
    "                i = min_index + lookback\n",
    "            rows = np.arange(i, min(i + batch_size, max_index))\n",
    "            i += len(rows)\n",
    "\n",
    "        samples = np.zeros((len(rows), lookback // step, data.shape[-1]))\n",
    "        targets = np.zeros((len(rows),))\n",
    "\n",
    "        for j, row in enumerate(rows):\n",
    "            indics = range(rows[j] - lookback, rows[j], step)\n",
    "            samples[j] = data[indics]\n",
    "            targets[j] = data[rows[j] + delay][1]\n",
    "        yield samples, targets"
   ]
  },
  {
   "cell_type": "code",
   "execution_count": 13,
   "metadata": {
    "ExecuteTime": {
     "end_time": "2018-09-18T13:13:13.335678Z",
     "start_time": "2018-09-18T13:13:13.324271Z"
    },
    "collapsed": true
   },
   "outputs": [],
   "source": [
    "lookback = 1440\n",
    "step = 6\n",
    "delay = 144\n",
    "batch_size = 128\n",
    "\n",
    "train_gen = generator(float_data, lookback=lookback, delay=delay,\n",
    "                      min_index=0, max_index=200000, shuffle=True,\n",
    "                      step=step, batch_size=batch_size)\n",
    "\n",
    "val_gen = generator(float_data, lookback=lookback, delay=delay,\n",
    "                    min_index=200001, max_index=300000,\n",
    "                    step=step, batch_size=batch_size)\n",
    "\n",
    "test_gen = generator(float_data, lookback=lookback, delay=delay,\n",
    "                     min_index=300001, max_index=None,\n",
    "                     step=step, batch_size=batch_size)"
   ]
  },
  {
   "cell_type": "code",
   "execution_count": 14,
   "metadata": {
    "ExecuteTime": {
     "end_time": "2018-09-18T13:13:13.342516Z",
     "start_time": "2018-09-18T13:13:13.337671Z"
    },
    "collapsed": true
   },
   "outputs": [],
   "source": [
    "# This is how many steps to draw from `val_gen`\n",
    "# in order to see the whole validation set:\n",
    "val_steps = (300000 - 200001 - lookback) // batch_size   # 769\n",
    "\n",
    "# This is how many steps to draw from 'test_gen'\n",
    "# in order to see the whole test set:\n",
    "test_steps = (len(float_data) - 300001 - lookback) // batch_size   # 930"
   ]
  },
  {
   "cell_type": "markdown",
   "metadata": {
    "ExecuteTime": {
     "end_time": "2018-09-16T02:21:12.707563Z",
     "start_time": "2018-09-16T02:21:12.703503Z"
    }
   },
   "source": [
    "### 一种基于常识的、非机器学习的基准方法"
   ]
  },
  {
   "cell_type": "markdown",
   "metadata": {},
   "source": [
    "在建立机器学习方法之前，建立一个基于常识的基准方法是很有用的。\n",
    "\n",
    "温度时间序列是连续的，并且具有每天的周期性变化。**一种基于常识的方法就是始终预测24小时后的温度等于现在的温度。使用平均绝对误差（MAE）指标来评估这种方法。**"
   ]
  },
  {
   "cell_type": "code",
   "execution_count": 15,
   "metadata": {
    "ExecuteTime": {
     "end_time": "2018-09-18T13:13:17.498334Z",
     "start_time": "2018-09-18T13:13:13.344098Z"
    }
   },
   "outputs": [
    {
     "name": "stdout",
     "output_type": "stream",
     "text": [
      "0.2897359729905486\n"
     ]
    }
   ],
   "source": [
    "def evaluate_naive_method():\n",
    "    batch_maes = []\n",
    "    for step in range(val_steps):\n",
    "        samples, targets = next(val_gen)\n",
    "        preds = samples[:, -1, 1]\n",
    "        mae = np.mean(np.abs(preds - targets))\n",
    "        batch_maes.append(mae)\n",
    "    print(np.mean(batch_maes))\n",
    "\n",
    "\n",
    "evaluate_naive_method()"
   ]
  },
  {
   "cell_type": "code",
   "execution_count": 16,
   "metadata": {
    "ExecuteTime": {
     "end_time": "2018-09-18T13:13:17.505249Z",
     "start_time": "2018-09-18T13:13:17.500541Z"
    }
   },
   "outputs": [
    {
     "data": {
      "text/plain": [
       "2.5672247338393395"
      ]
     },
     "execution_count": 16,
     "metadata": {},
     "output_type": "execute_result"
    }
   ],
   "source": [
    "# 将MAE转化为摄氏温度误差\n",
    "celsius_mae = 0.29 * std[1]\n",
    "celsius_mae"
   ]
  },
  {
   "cell_type": "markdown",
   "metadata": {},
   "source": [
    "因为温度数据被标准化成均值为0、标准差为1，所以无法直接对MAE进行解释。它转化为温度的平均绝对误差为$0.29 \\times temperature\\_std$摄氏度，$2.57^{\\circ}C$。"
   ]
  },
  {
   "cell_type": "markdown",
   "metadata": {},
   "source": [
    "> **遇到新问题时，最好首先为选择的指标建立一个基于常识的基准。如果没有需要打败的基准，那么就无法分辨是否取得了真正的进步。**"
   ]
  },
  {
   "cell_type": "markdown",
   "metadata": {},
   "source": [
    "### 一种基本的机器学习方法"
   ]
  },
  {
   "cell_type": "markdown",
   "metadata": {},
   "source": [
    "在开始研究复杂且计算代价很高的模型（比如RNN）之前，尝试使用简单且计算代价低的机器学习模型也是很有用，比如小型的密集连接网络。这可以保证进一步增加问题的复杂度是合理的，并且会带来真正的好处。"
   ]
  },
  {
   "cell_type": "code",
   "execution_count": 17,
   "metadata": {
    "ExecuteTime": {
     "end_time": "2018-09-18T13:16:41.669632Z",
     "start_time": "2018-09-18T13:13:17.507360Z"
    }
   },
   "outputs": [
    {
     "name": "stderr",
     "output_type": "stream",
     "text": [
      "Using TensorFlow backend.\n"
     ]
    },
    {
     "name": "stdout",
     "output_type": "stream",
     "text": [
      "Epoch 1/20\n",
      "500/500 [==============================] - 11s 22ms/step - loss: 1.3511 - val_loss: 1.0121\n",
      "Epoch 2/20\n",
      "500/500 [==============================] - 10s 20ms/step - loss: 0.4810 - val_loss: 0.3497\n",
      "Epoch 3/20\n",
      "500/500 [==============================] - 10s 19ms/step - loss: 0.3000 - val_loss: 0.3108\n",
      "Epoch 4/20\n",
      "500/500 [==============================] - 10s 19ms/step - loss: 0.2695 - val_loss: 0.3025\n",
      "Epoch 5/20\n",
      "500/500 [==============================] - 10s 20ms/step - loss: 0.2561 - val_loss: 0.3146\n",
      "Epoch 6/20\n",
      "500/500 [==============================] - 11s 21ms/step - loss: 0.2451 - val_loss: 0.3038\n",
      "Epoch 7/20\n",
      "500/500 [==============================] - 11s 22ms/step - loss: 0.2373 - val_loss: 0.3178\n",
      "Epoch 8/20\n",
      "500/500 [==============================] - 11s 22ms/step - loss: 0.2304 - val_loss: 0.3170\n",
      "Epoch 9/20\n",
      "500/500 [==============================] - 10s 21ms/step - loss: 0.2301 - val_loss: 0.3513\n",
      "Epoch 10/20\n",
      "500/500 [==============================] - 10s 20ms/step - loss: 0.2246 - val_loss: 0.3381\n",
      "Epoch 11/20\n",
      "500/500 [==============================] - 10s 20ms/step - loss: 0.2194 - val_loss: 0.3360\n",
      "Epoch 12/20\n",
      "500/500 [==============================] - 10s 20ms/step - loss: 0.2172 - val_loss: 0.3216\n",
      "Epoch 13/20\n",
      "500/500 [==============================] - 10s 20ms/step - loss: 0.2151 - val_loss: 0.3209\n",
      "Epoch 14/20\n",
      "500/500 [==============================] - 10s 20ms/step - loss: 0.2113 - val_loss: 0.3271\n",
      "Epoch 15/20\n",
      "500/500 [==============================] - 10s 20ms/step - loss: 0.2094 - val_loss: 0.3484\n",
      "Epoch 16/20\n",
      "500/500 [==============================] - 10s 20ms/step - loss: 0.2078 - val_loss: 0.3692\n",
      "Epoch 17/20\n",
      "500/500 [==============================] - 10s 20ms/step - loss: 0.2051 - val_loss: 0.3329\n",
      "Epoch 18/20\n",
      "500/500 [==============================] - 10s 20ms/step - loss: 0.2033 - val_loss: 0.3547\n",
      "Epoch 19/20\n",
      "500/500 [==============================] - 10s 20ms/step - loss: 0.2016 - val_loss: 0.3315\n",
      "Epoch 20/20\n",
      "500/500 [==============================] - 10s 20ms/step - loss: 0.1997 - val_loss: 0.3544\n"
     ]
    }
   ],
   "source": [
    "# 训练一个密集连接模型\n",
    "from keras import layers\n",
    "from keras.models import Sequential\n",
    "from keras.optimizers import RMSprop\n",
    "\n",
    "model = Sequential()\n",
    "model.add(layers.Flatten(input_shape=(lookback // step, float_data.shape[-1])))\n",
    "model.add(layers.Dense(32, activation='relu'))\n",
    "model.add(layers.Dense(1))\n",
    "\n",
    "model.compile(optimizer=RMSprop(), loss='mae')\n",
    "\n",
    "history = model.fit_generator(train_gen,\n",
    "                              steps_per_epoch=500,\n",
    "                              epochs=20,\n",
    "                              validation_data=val_gen,\n",
    "                              validation_steps=val_steps)"
   ]
  },
  {
   "cell_type": "code",
   "execution_count": 18,
   "metadata": {
    "ExecuteTime": {
     "end_time": "2018-09-18T13:16:41.676936Z",
     "start_time": "2018-09-18T13:16:41.672341Z"
    }
   },
   "outputs": [
    {
     "data": {
      "text/plain": [
       "dict_keys(['val_loss', 'loss'])"
      ]
     },
     "execution_count": 18,
     "metadata": {},
     "output_type": "execute_result"
    }
   ],
   "source": [
    "history.history.keys()"
   ]
  },
  {
   "cell_type": "code",
   "execution_count": 19,
   "metadata": {
    "ExecuteTime": {
     "end_time": "2018-09-18T13:16:41.898695Z",
     "start_time": "2018-09-18T13:16:41.679144Z"
    }
   },
   "outputs": [
    {
     "data": {
      "image/png": "[encoded data removed]",
      "text/plain": [
       "<Figure size 720x432 with 1 Axes>"
      ]
     },
     "metadata": {},
     "output_type": "display_data"
    }
   ],
   "source": [
    "loss = history.history['loss']\n",
    "val_loss = history.history['val_loss']\n",
    "epochs = range(1, len(loss) + 1)\n",
    "\n",
    "plt.figure(figsize=(10, 6))\n",
    "plt.plot(epochs, loss, 'bo', label=\"Training loss\")\n",
    "plt.plot(epochs, val_loss, 'b', label=\"Validation loss\")\n",
    "plt.legend()\n",
    "plt.title(\"Training and validation loss\")\n",
    "plt.show()"
   ]
  },
  {
   "cell_type": "markdown",
   "metadata": {},
   "source": [
    "将时间序列展平，从输入数据中删除了时间的概念。"
   ]
  },
  {
   "cell_type": "markdown",
   "metadata": {},
   "source": [
    "> **在尝试代价较高的模型之前，先尝试一些简单的模型，以此证明增加计算代价是有意义的。有时简单模型就是你的最佳选择。**"
   ]
  },
  {
   "cell_type": "markdown",
   "metadata": {},
   "source": [
    "**如果时间顺序对于数据很重要，那么循环网络是一种很适合的方法，与那些先将时间数据展平的模型相比，其性能要更好。**"
   ]
  },
  {
   "cell_type": "markdown",
   "metadata": {
    "collapsed": true
   },
   "source": [
    "### 循环网络基准"
   ]
  },
  {
   "cell_type": "markdown",
   "metadata": {
    "ExecuteTime": {
     "end_time": "2018-09-17T00:38:34.405112Z",
     "start_time": "2018-09-17T00:38:34.401251Z"
    }
   },
   "source": [
    "门控循环单元（GRU，gated recurrent unit），工作原理与LSTM相同，但做了一些简化，因此运行的计算代价更低（虽然表示能力不如LSTM）。"
   ]
  },
  {
   "cell_type": "code",
   "execution_count": 20,
   "metadata": {
    "ExecuteTime": {
     "end_time": "2018-09-18T13:57:21.312998Z",
     "start_time": "2018-09-18T13:16:41.900036Z"
    }
   },
   "outputs": [
    {
     "name": "stdout",
     "output_type": "stream",
     "text": [
      "Epoch 1/20\n",
      "500/500 [==============================] - 124s 248ms/step - loss: 0.3042 - val_loss: 0.2704\n",
      "Epoch 2/20\n",
      "500/500 [==============================] - 122s 245ms/step - loss: 0.2865 - val_loss: 0.2668\n",
      "Epoch 3/20\n",
      "500/500 [==============================] - 122s 245ms/step - loss: 0.2794 - val_loss: 0.2643\n",
      "Epoch 4/20\n",
      "500/500 [==============================] - 122s 245ms/step - loss: 0.2739 - val_loss: 0.2692\n",
      "Epoch 5/20\n",
      "500/500 [==============================] - 122s 245ms/step - loss: 0.2692 - val_loss: 0.2636\n",
      "Epoch 6/20\n",
      "500/500 [==============================] - 122s 245ms/step - loss: 0.2631 - val_loss: 0.2694\n",
      "Epoch 7/20\n",
      "500/500 [==============================] - 122s 245ms/step - loss: 0.2595 - val_loss: 0.2675\n",
      "Epoch 8/20\n",
      "500/500 [==============================] - 122s 245ms/step - loss: 0.2542 - val_loss: 0.2680\n",
      "Epoch 9/20\n",
      "500/500 [==============================] - 123s 245ms/step - loss: 0.2505 - val_loss: 0.2718\n",
      "Epoch 10/20\n",
      "500/500 [==============================] - 123s 245ms/step - loss: 0.2467 - val_loss: 0.2727\n",
      "Epoch 11/20\n",
      "500/500 [==============================] - 123s 245ms/step - loss: 0.2427 - val_loss: 0.2726\n",
      "Epoch 12/20\n",
      "500/500 [==============================] - 122s 245ms/step - loss: 0.2388 - val_loss: 0.2775\n",
      "Epoch 13/20\n",
      "500/500 [==============================] - 122s 245ms/step - loss: 0.2364 - val_loss: 0.2763\n",
      "Epoch 14/20\n",
      "500/500 [==============================] - 122s 245ms/step - loss: 0.2314 - val_loss: 0.2822\n",
      "Epoch 15/20\n",
      "500/500 [==============================] - 123s 245ms/step - loss: 0.2288 - val_loss: 0.2843\n",
      "Epoch 16/20\n",
      "500/500 [==============================] - 121s 243ms/step - loss: 0.2240 - val_loss: 0.2846\n",
      "Epoch 17/20\n",
      "500/500 [==============================] - 120s 240ms/step - loss: 0.2202 - val_loss: 0.2870\n",
      "Epoch 18/20\n",
      "500/500 [==============================] - 120s 240ms/step - loss: 0.2173 - val_loss: 0.2889\n",
      "Epoch 19/20\n",
      "500/500 [==============================] - 120s 240ms/step - loss: 0.2149 - val_loss: 0.2868\n",
      "Epoch 20/20\n",
      "500/500 [==============================] - 120s 239ms/step - loss: 0.2117 - val_loss: 0.2903\n"
     ]
    }
   ],
   "source": [
    "from keras.models import Sequential\n",
    "from keras import layers\n",
    "from keras.optimizers import RMSprop\n",
    "\n",
    "model = Sequential()\n",
    "model.add(layers.GRU(32, input_shape=(None, float_data.shape[-1])))\n",
    "model.add(layers.Dense(1))\n",
    "\n",
    "model.compile(optimizer=RMSprop(), loss='mae')\n",
    "history = model.fit_generator(train_gen,\n",
    "                              steps_per_epoch=500,\n",
    "                              epochs=20,\n",
    "                              validation_data=val_gen,\n",
    "                              validation_steps=val_steps)"
   ]
  },
  {
   "cell_type": "code",
   "execution_count": 21,
   "metadata": {
    "ExecuteTime": {
     "end_time": "2018-09-18T13:57:21.500393Z",
     "start_time": "2018-09-18T13:57:21.314607Z"
    }
   },
   "outputs": [
    {
     "data": {
      "image/png": "[encoded data removed]",
      "text/plain": [
       "<Figure size 720x432 with 1 Axes>"
      ]
     },
     "metadata": {},
     "output_type": "display_data"
    }
   ],
   "source": [
    "loss = history.history['loss']\n",
    "val_loss = history.history['val_loss']\n",
    "epochs = range(1, len(loss) + 1)\n",
    "\n",
    "plt.figure(figsize=(10, 6))\n",
    "plt.plot(epochs, loss, 'bo', label=\"Training loss\")\n",
    "plt.plot(epochs, val_loss, 'b', label=\"Validation loss\")\n",
    "plt.legend()\n",
    "plt.title(\"Training and validation loss\")\n",
    "plt.show()"
   ]
  },
  {
   "cell_type": "markdown",
   "metadata": {},
   "source": [
    "> 新的验证MAE约为0.265（在开始显著过拟合之前）。  \n",
    "几轮过后模型开始过拟合——训练损失和验证损失就开始显著偏离。"
   ]
  },
  {
   "cell_type": "markdown",
   "metadata": {},
   "source": [
    "### 使用循环Dropout来降低过拟合"
   ]
  },
  {
   "cell_type": "markdown",
   "metadata": {},
   "source": [
    "**dropout**，将某一层的输入单元随机设为0，其目的是打破该层训练数据中的偶然相关性。\n",
    "\n",
    "在循环层之前应用dropout，这种正则化会妨碍学习过程，而不是有所帮助。\n",
    "\n",
    "在循环层正确使用dropout的正确方法：对每个时间步应该使用相同的dropout掩码（dropout mask，相同模式的舍弃单元），而不是让dropout掩码随着时间步的增加而随机变化。此外，为了对LSTM和GRU等循环层得到的表示做正则化，应该将不随时间变化的dropout掩码应用于层的内部循环激活（叫作**循环dropout掩码**）。对每个时间步使用相同的dropout掩码，可以让网络沿着时间正确地传播其学习误差，而随着时间随机变化的dropout掩码则会破坏这个误差信号，并不利于学习过程。"
   ]
  },
  {
   "cell_type": "markdown",
   "metadata": {},
   "source": [
    "Keras的每个循环层都有两个与dropout相关的参数：\n",
    "1. dropout，浮点数，指定该层输入单元的dropout比率\n",
    "2. recurrent_dropout，指定循环单元的dropout比率。\n",
    "\n",
    "使用dropout正则化的网络总是需要更长的时间才能完全收敛，所以网络训练轮次增加为原来的2倍。"
   ]
  },
  {
   "cell_type": "code",
   "execution_count": 22,
   "metadata": {
    "ExecuteTime": {
     "end_time": "2018-09-18T15:29:28.892954Z",
     "start_time": "2018-09-18T13:57:21.502293Z"
    }
   },
   "outputs": [
    {
     "name": "stdout",
     "output_type": "stream",
     "text": [
      "Epoch 1/40\n",
      "500/500 [==============================] - 139s 277ms/step - loss: 0.3421 - val_loss: 0.2761\n",
      "Epoch 2/40\n",
      "500/500 [==============================] - 138s 276ms/step - loss: 0.3157 - val_loss: 0.2737\n",
      "Epoch 3/40\n",
      "500/500 [==============================] - 138s 276ms/step - loss: 0.3066 - val_loss: 0.2707\n",
      "Epoch 4/40\n",
      "500/500 [==============================] - 138s 276ms/step - loss: 0.3046 - val_loss: 0.2687\n",
      "Epoch 5/40\n",
      "500/500 [==============================] - 138s 276ms/step - loss: 0.3024 - val_loss: 0.2720\n",
      "Epoch 6/40\n",
      "500/500 [==============================] - 138s 276ms/step - loss: 0.2984 - val_loss: 0.2672\n",
      "Epoch 7/40\n",
      "500/500 [==============================] - 138s 276ms/step - loss: 0.2975 - val_loss: 0.2689\n",
      "Epoch 8/40\n",
      "500/500 [==============================] - 138s 276ms/step - loss: 0.2961 - val_loss: 0.2671\n",
      "Epoch 9/40\n",
      "500/500 [==============================] - 138s 276ms/step - loss: 0.2938 - val_loss: 0.2769\n",
      "Epoch 10/40\n",
      "500/500 [==============================] - 138s 276ms/step - loss: 0.2952 - val_loss: 0.2672\n",
      "Epoch 11/40\n",
      "500/500 [==============================] - 138s 276ms/step - loss: 0.2898 - val_loss: 0.2755\n",
      "Epoch 12/40\n",
      "500/500 [==============================] - 138s 276ms/step - loss: 0.2907 - val_loss: 0.2657\n",
      "Epoch 13/40\n",
      "500/500 [==============================] - 138s 276ms/step - loss: 0.2890 - val_loss: 0.2661\n",
      "Epoch 14/40\n",
      "500/500 [==============================] - 138s 276ms/step - loss: 0.2869 - val_loss: 0.2636\n",
      "Epoch 15/40\n",
      "500/500 [==============================] - 138s 276ms/step - loss: 0.2859 - val_loss: 0.2668\n",
      "Epoch 16/40\n",
      "500/500 [==============================] - 138s 276ms/step - loss: 0.2874 - val_loss: 0.2644\n",
      "Epoch 17/40\n",
      "500/500 [==============================] - 138s 276ms/step - loss: 0.2847 - val_loss: 0.2643\n",
      "Epoch 18/40\n",
      "500/500 [==============================] - 138s 276ms/step - loss: 0.2835 - val_loss: 0.2735\n",
      "Epoch 19/40\n",
      "500/500 [==============================] - 138s 276ms/step - loss: 0.2843 - val_loss: 0.2623\n",
      "Epoch 20/40\n",
      "500/500 [==============================] - 138s 276ms/step - loss: 0.2817 - val_loss: 0.2634\n",
      "Epoch 21/40\n",
      "500/500 [==============================] - 138s 276ms/step - loss: 0.2820 - val_loss: 0.2654\n",
      "Epoch 22/40\n",
      "500/500 [==============================] - 138s 277ms/step - loss: 0.2810 - val_loss: 0.2763\n",
      "Epoch 23/40\n",
      "500/500 [==============================] - 138s 277ms/step - loss: 0.2808 - val_loss: 0.2617\n",
      "Epoch 24/40\n",
      "500/500 [==============================] - 138s 276ms/step - loss: 0.2794 - val_loss: 0.2640\n",
      "Epoch 25/40\n",
      "500/500 [==============================] - 138s 277ms/step - loss: 0.2790 - val_loss: 0.2641\n",
      "Epoch 26/40\n",
      "500/500 [==============================] - 138s 276ms/step - loss: 0.2783 - val_loss: 0.2606\n",
      "Epoch 27/40\n",
      "500/500 [==============================] - 138s 276ms/step - loss: 0.2784 - val_loss: 0.2608\n",
      "Epoch 28/40\n",
      "500/500 [==============================] - 138s 277ms/step - loss: 0.2774 - val_loss: 0.2592\n",
      "Epoch 29/40\n",
      "500/500 [==============================] - 138s 277ms/step - loss: 0.2780 - val_loss: 0.2640\n",
      "Epoch 30/40\n",
      "500/500 [==============================] - 138s 276ms/step - loss: 0.2768 - val_loss: 0.2693\n",
      "Epoch 31/40\n",
      "500/500 [==============================] - 138s 277ms/step - loss: 0.2750 - val_loss: 0.2604\n",
      "Epoch 32/40\n",
      "500/500 [==============================] - 138s 277ms/step - loss: 0.2758 - val_loss: 0.2627\n",
      "Epoch 33/40\n",
      "500/500 [==============================] - 138s 276ms/step - loss: 0.2758 - val_loss: 0.2658\n",
      "Epoch 34/40\n",
      "500/500 [==============================] - 138s 276ms/step - loss: 0.2738 - val_loss: 0.2626\n",
      "Epoch 35/40\n",
      "500/500 [==============================] - 138s 277ms/step - loss: 0.2736 - val_loss: 0.2634\n",
      "Epoch 36/40\n",
      "500/500 [==============================] - 138s 276ms/step - loss: 0.2731 - val_loss: 0.2606\n",
      "Epoch 37/40\n",
      "500/500 [==============================] - 138s 277ms/step - loss: 0.2724 - val_loss: 0.2601\n",
      "Epoch 38/40\n",
      "500/500 [==============================] - 138s 277ms/step - loss: 0.2710 - val_loss: 0.2604\n",
      "Epoch 39/40\n",
      "500/500 [==============================] - 138s 277ms/step - loss: 0.2718 - val_loss: 0.2761\n",
      "Epoch 40/40\n",
      "500/500 [==============================] - 138s 277ms/step - loss: 0.2708 - val_loss: 0.2685\n"
     ]
    }
   ],
   "source": [
    "model = Sequential()\n",
    "model.add(layers.GRU(32,\n",
    "                     dropout=0.2,\n",
    "                     recurrent_dropout=0.2,\n",
    "                     input_shape=(None, float_data.shape[-1])))\n",
    "model.add(layers.Dense(1))\n",
    "\n",
    "model.compile(optimizer=RMSprop(), loss='mae')\n",
    "history = model.fit_generator(train_gen,\n",
    "                              steps_per_epoch=500,\n",
    "                              epochs=40,\n",
    "                              validation_data=val_gen,\n",
    "                              validation_steps=val_steps)"
   ]
  },
  {
   "cell_type": "code",
   "execution_count": 23,
   "metadata": {
    "ExecuteTime": {
     "end_time": "2018-09-18T15:29:29.058778Z",
     "start_time": "2018-09-18T15:29:28.894637Z"
    }
   },
   "outputs": [
    {
     "data": {
      "image/png": "[encoded data removed]",
      "text/plain": [
       "<Figure size 720x432 with 1 Axes>"
      ]
     },
     "metadata": {},
     "output_type": "display_data"
    }
   ],
   "source": [
    "loss = history.history['loss']\n",
    "val_loss = history.history['val_loss']\n",
    "epochs = range(1, len(loss) + 1)\n",
    "\n",
    "plt.figure(figsize=(10, 6))\n",
    "plt.plot(epochs, loss, 'bo', label=\"Training loss\")\n",
    "plt.plot(epochs, val_loss, 'b', label=\"Validation loss\")\n",
    "plt.legend()\n",
    "plt.title(\"Training and validation loss\")\n",
    "plt.show()"
   ]
  },
  {
   "cell_type": "markdown",
   "metadata": {},
   "source": [
    "虽然评估分数稳定，但最佳分数并没有比之前低很多。"
   ]
  },
  {
   "cell_type": "markdown",
   "metadata": {},
   "source": [
    "### 循环层堆叠"
   ]
  },
  {
   "cell_type": "markdown",
   "metadata": {},
   "source": [
    "模型不再过拟合，但似乎遇到了性能瓶颈，所以应该考虑增加网络容量。**增加网络容量通常是一个好主意，直到过拟合变成主要的障碍。**只要过拟合不是太严重，那么很可能是容量不足的问题。\n",
    "\n",
    "增加网络容量的通常做法是增加每层单元数或增加层数。**循环层堆叠**是构建更加强大的循环网络的经典方法。"
   ]
  },
  {
   "cell_type": "code",
   "execution_count": 24,
   "metadata": {
    "ExecuteTime": {
     "end_time": "2018-09-18T18:35:26.330224Z",
     "start_time": "2018-09-18T15:29:29.060118Z"
    }
   },
   "outputs": [
    {
     "name": "stdout",
     "output_type": "stream",
     "text": [
      "Epoch 1/40\n",
      "500/500 [==============================] - 280s 560ms/step - loss: 0.3357 - val_loss: 0.2799\n",
      "Epoch 2/40\n",
      "500/500 [==============================] - 278s 557ms/step - loss: 0.3124 - val_loss: 0.2780\n",
      "Epoch 3/40\n",
      "500/500 [==============================] - 278s 557ms/step - loss: 0.3052 - val_loss: 0.2747\n",
      "Epoch 4/40\n",
      "500/500 [==============================] - 279s 558ms/step - loss: 0.3019 - val_loss: 0.2681\n",
      "Epoch 5/40\n",
      "500/500 [==============================] - 279s 557ms/step - loss: 0.2970 - val_loss: 0.2751\n",
      "Epoch 6/40\n",
      "500/500 [==============================] - 279s 557ms/step - loss: 0.2926 - val_loss: 0.2691\n",
      "Epoch 7/40\n",
      "500/500 [==============================] - 279s 557ms/step - loss: 0.2918 - val_loss: 0.2708\n",
      "Epoch 8/40\n",
      "500/500 [==============================] - 279s 557ms/step - loss: 0.2900 - val_loss: 0.2685\n",
      "Epoch 9/40\n",
      "500/500 [==============================] - 279s 557ms/step - loss: 0.2863 - val_loss: 0.2710\n",
      "Epoch 10/40\n",
      "500/500 [==============================] - 279s 557ms/step - loss: 0.2872 - val_loss: 0.2635\n",
      "Epoch 11/40\n",
      "500/500 [==============================] - 279s 557ms/step - loss: 0.2830 - val_loss: 0.2665\n",
      "Epoch 12/40\n",
      "500/500 [==============================] - 279s 557ms/step - loss: 0.2808 - val_loss: 0.2628\n",
      "Epoch 13/40\n",
      "500/500 [==============================] - 279s 558ms/step - loss: 0.2817 - val_loss: 0.2672\n",
      "Epoch 14/40\n",
      "500/500 [==============================] - 279s 558ms/step - loss: 0.2777 - val_loss: 0.2673\n",
      "Epoch 15/40\n",
      "500/500 [==============================] - 279s 558ms/step - loss: 0.2768 - val_loss: 0.2612\n",
      "Epoch 16/40\n",
      "500/500 [==============================] - 279s 558ms/step - loss: 0.2770 - val_loss: 0.2625\n",
      "Epoch 17/40\n",
      "500/500 [==============================] - 279s 558ms/step - loss: 0.2736 - val_loss: 0.2632\n",
      "Epoch 18/40\n",
      "500/500 [==============================] - 279s 558ms/step - loss: 0.2727 - val_loss: 0.2630\n",
      "Epoch 19/40\n",
      "500/500 [==============================] - 279s 558ms/step - loss: 0.2714 - val_loss: 0.2607\n",
      "Epoch 20/40\n",
      "500/500 [==============================] - 279s 558ms/step - loss: 0.2701 - val_loss: 0.2649\n",
      "Epoch 21/40\n",
      "500/500 [==============================] - 279s 558ms/step - loss: 0.2698 - val_loss: 0.2687\n",
      "Epoch 22/40\n",
      "500/500 [==============================] - 279s 557ms/step - loss: 0.2696 - val_loss: 0.2637\n",
      "Epoch 23/40\n",
      "500/500 [==============================] - 279s 558ms/step - loss: 0.2667 - val_loss: 0.2650\n",
      "Epoch 24/40\n",
      "500/500 [==============================] - 279s 558ms/step - loss: 0.2664 - val_loss: 0.2694\n",
      "Epoch 25/40\n",
      "500/500 [==============================] - 279s 558ms/step - loss: 0.2655 - val_loss: 0.2684\n",
      "Epoch 26/40\n",
      "500/500 [==============================] - 279s 558ms/step - loss: 0.2639 - val_loss: 0.2684\n",
      "Epoch 27/40\n",
      "500/500 [==============================] - 279s 558ms/step - loss: 0.2638 - val_loss: 0.2659\n",
      "Epoch 28/40\n",
      "500/500 [==============================] - 279s 558ms/step - loss: 0.2634 - val_loss: 0.2659\n",
      "Epoch 29/40\n",
      "500/500 [==============================] - 279s 558ms/step - loss: 0.2610 - val_loss: 0.2656\n",
      "Epoch 30/40\n",
      "500/500 [==============================] - 279s 558ms/step - loss: 0.2613 - val_loss: 0.2688\n",
      "Epoch 31/40\n",
      "500/500 [==============================] - 279s 558ms/step - loss: 0.2586 - val_loss: 0.2672\n",
      "Epoch 32/40\n",
      "500/500 [==============================] - 279s 558ms/step - loss: 0.2602 - val_loss: 0.2693\n",
      "Epoch 33/40\n",
      "500/500 [==============================] - 279s 558ms/step - loss: 0.2591 - val_loss: 0.2760\n",
      "Epoch 34/40\n",
      "500/500 [==============================] - 279s 558ms/step - loss: 0.2568 - val_loss: 0.2699\n",
      "Epoch 35/40\n",
      "500/500 [==============================] - 279s 558ms/step - loss: 0.2587 - val_loss: 0.2775\n",
      "Epoch 36/40\n",
      "500/500 [==============================] - 279s 558ms/step - loss: 0.2567 - val_loss: 0.2693\n",
      "Epoch 37/40\n",
      "500/500 [==============================] - 279s 558ms/step - loss: 0.2562 - val_loss: 0.2681\n",
      "Epoch 38/40\n",
      "500/500 [==============================] - 279s 558ms/step - loss: 0.2566 - val_loss: 0.2723\n",
      "Epoch 39/40\n",
      "500/500 [==============================] - 279s 558ms/step - loss: 0.2553 - val_loss: 0.2712\n",
      "Epoch 40/40\n",
      "500/500 [==============================] - 279s 558ms/step - loss: 0.2558 - val_loss: 0.2748\n"
     ]
    }
   ],
   "source": [
    "# 训练并评估一个使用dropout正则化的堆叠GRU模型\n",
    "model = Sequential()\n",
    "model.add(layers.GRU(32,\n",
    "                     dropout=0.1,\n",
    "                     recurrent_dropout=0.5,\n",
    "                     return_sequences=True,\n",
    "                     input_shape=(None, float_data.shape[-1])))\n",
    "model.add(layers.GRU(64,\n",
    "                     activation='relu',\n",
    "                     dropout=0.1,\n",
    "                     recurrent_dropout=0.5))\n",
    "model.add(layers.Dense(1))\n",
    "\n",
    "model.compile(optimizer=RMSprop(), loss='mae')\n",
    "history = model.fit_generator(train_gen,\n",
    "                              steps_per_epoch=500,\n",
    "                              epochs=40,\n",
    "                              validation_data=val_gen,\n",
    "                              validation_steps=val_steps)"
   ]
  },
  {
   "cell_type": "code",
   "execution_count": 25,
   "metadata": {
    "ExecuteTime": {
     "end_time": "2018-09-18T18:35:26.527931Z",
     "start_time": "2018-09-18T18:35:26.331691Z"
    }
   },
   "outputs": [
    {
     "data": {
      "image/png": "[encoded data removed]",
      "text/plain": [
       "<Figure size 720x432 with 1 Axes>"
      ]
     },
     "metadata": {},
     "output_type": "display_data"
    }
   ],
   "source": [
    "loss = history.history['loss']\n",
    "val_loss = history.history['val_loss']\n",
    "epochs = range(1, len(loss) + 1)\n",
    "\n",
    "plt.figure(figsize=(10, 6))\n",
    "plt.plot(epochs, loss, 'bo', label=\"Training loss\")\n",
    "plt.plot(epochs, val_loss, 'b', label=\"Validation loss\")\n",
    "plt.legend()\n",
    "plt.title(\"Training and validation loss\")\n",
    "plt.show()"
   ]
  },
  {
   "cell_type": "markdown",
   "metadata": {},
   "source": [
    "> **与单个RNN层相比，堆叠RNN的表示能力更加强大。但它的计算代价也更高，因此不一定总是需要。在机器翻译等复杂问题上很有效，但在较小、较简单的问题上可能不一定有用。**"
   ]
  },
  {
   "cell_type": "markdown",
   "metadata": {},
   "source": [
    "### 使用双向RNN"
   ]
  },
  {
   "cell_type": "markdown",
   "metadata": {},
   "source": [
    "+ 使用逆序序列（IMDB）训练LSTM"
   ]
  },
  {
   "cell_type": "code",
   "execution_count": 26,
   "metadata": {
    "ExecuteTime": {
     "end_time": "2018-09-18T18:35:30.038404Z",
     "start_time": "2018-09-18T18:35:26.529517Z"
    },
    "collapsed": true
   },
   "outputs": [],
   "source": [
    "# 使用逆序序列训练并评估一个LSTM\n",
    "from keras.datasets import imdb\n",
    "from keras.preprocessing import sequence\n",
    "from keras import layers\n",
    "from keras.models import Sequential\n",
    "\n",
    "max_features = 10000   # 作为特征的单词个数\n",
    "maxlen = 500   # 在500个单词后截断文本\n",
    "\n",
    "(x_train, y_train), (x_test, y_test) = imdb.load_data(num_words=max_features)"
   ]
  },
  {
   "cell_type": "code",
   "execution_count": 27,
   "metadata": {
    "ExecuteTime": {
     "end_time": "2018-09-18T18:35:30.044613Z",
     "start_time": "2018-09-18T18:35:30.040055Z"
    }
   },
   "outputs": [
    {
     "data": {
      "text/plain": [
       "(25000,)"
      ]
     },
     "execution_count": 27,
     "metadata": {},
     "output_type": "execute_result"
    }
   ],
   "source": [
    "x_train.shape"
   ]
  },
  {
   "cell_type": "code",
   "execution_count": 28,
   "metadata": {
    "ExecuteTime": {
     "end_time": "2018-09-18T18:35:30.052639Z",
     "start_time": "2018-09-18T18:35:30.047529Z"
    }
   },
   "outputs": [
    {
     "data": {
      "text/plain": [
       "array([list([1, 14, 22, 16, 43, 530, 973, 1622, 1385, 65, 458, 4468, 66, 3941, 4, 173, 36, 256, 5, 25, 100, 43, 838, 112, 50, 670, 2, 9, 35, 480, 284, 5, 150, 4, 172, 112, 167, 2, 336, 385, 39, 4, 172, 4536, 1111, 17, 546, 38, 13, 447, 4, 192, 50, 16, 6, 147, 2025, 19, 14, 22, 4, 1920, 4613, 469, 4, 22, 71, 87, 12, 16, 43, 530, 38, 76, 15, 13, 1247, 4, 22, 17, 515, 17, 12, 16, 626, 18, 2, 5, 62, 386, 12, 8, 316, 8, 106, 5, 4, 2223, 5244, 16, 480, 66, 3785, 33, 4, 130, 12, 16, 38, 619, 5, 25, 124, 51, 36, 135, 48, 25, 1415, 33, 6, 22, 12, 215, 28, 77, 52, 5, 14, 407, 16, 82, 2, 8, 4, 107, 117, 5952, 15, 256, 4, 2, 7, 3766, 5, 723, 36, 71, 43, 530, 476, 26, 400, 317, 46, 7, 4, 2, 1029, 13, 104, 88, 4, 381, 15, 297, 98, 32, 2071, 56, 26, 141, 6, 194, 7486, 18, 4, 226, 22, 21, 134, 476, 26, 480, 5, 144, 30, 5535, 18, 51, 36, 28, 224, 92, 25, 104, 4, 226, 65, 16, 38, 1334, 88, 12, 16, 283, 5, 16, 4472, 113, 103, 32, 15, 16, 5345, 19, 178, 32]),\n",
       "       list([1, 194, 1153, 194, 8255, 78, 228, 5, 6, 1463, 4369, 5012, 134, 26, 4, 715, 8, 118, 1634, 14, 394, 20, 13, 119, 954, 189, 102, 5, 207, 110, 3103, 21, 14, 69, 188, 8, 30, 23, 7, 4, 249, 126, 93, 4, 114, 9, 2300, 1523, 5, 647, 4, 116, 9, 35, 8163, 4, 229, 9, 340, 1322, 4, 118, 9, 4, 130, 4901, 19, 4, 1002, 5, 89, 29, 952, 46, 37, 4, 455, 9, 45, 43, 38, 1543, 1905, 398, 4, 1649, 26, 6853, 5, 163, 11, 3215, 2, 4, 1153, 9, 194, 775, 7, 8255, 2, 349, 2637, 148, 605, 2, 8003, 15, 123, 125, 68, 2, 6853, 15, 349, 165, 4362, 98, 5, 4, 228, 9, 43, 2, 1157, 15, 299, 120, 5, 120, 174, 11, 220, 175, 136, 50, 9, 4373, 228, 8255, 5, 2, 656, 245, 2350, 5, 4, 9837, 131, 152, 491, 18, 2, 32, 7464, 1212, 14, 9, 6, 371, 78, 22, 625, 64, 1382, 9, 8, 168, 145, 23, 4, 1690, 15, 16, 4, 1355, 5, 28, 6, 52, 154, 462, 33, 89, 78, 285, 16, 145, 95]),\n",
       "       list([1, 14, 47, 8, 30, 31, 7, 4, 249, 108, 7, 4, 5974, 54, 61, 369, 13, 71, 149, 14, 22, 112, 4, 2401, 311, 12, 16, 3711, 33, 75, 43, 1829, 296, 4, 86, 320, 35, 534, 19, 263, 4821, 1301, 4, 1873, 33, 89, 78, 12, 66, 16, 4, 360, 7, 4, 58, 316, 334, 11, 4, 1716, 43, 645, 662, 8, 257, 85, 1200, 42, 1228, 2578, 83, 68, 3912, 15, 36, 165, 1539, 278, 36, 69, 2, 780, 8, 106, 14, 6905, 1338, 18, 6, 22, 12, 215, 28, 610, 40, 6, 87, 326, 23, 2300, 21, 23, 22, 12, 272, 40, 57, 31, 11, 4, 22, 47, 6, 2307, 51, 9, 170, 23, 595, 116, 595, 1352, 13, 191, 79, 638, 89, 2, 14, 9, 8, 106, 607, 624, 35, 534, 6, 227, 7, 129, 113])],\n",
       "      dtype=object)"
      ]
     },
     "execution_count": 28,
     "metadata": {},
     "output_type": "execute_result"
    }
   ],
   "source": [
    "x_train[:3]"
   ]
  },
  {
   "cell_type": "code",
   "execution_count": 29,
   "metadata": {
    "ExecuteTime": {
     "end_time": "2018-09-18T18:35:30.059112Z",
     "start_time": "2018-09-18T18:35:30.054966Z"
    }
   },
   "outputs": [
    {
     "data": {
      "text/plain": [
       "218"
      ]
     },
     "execution_count": 29,
     "metadata": {},
     "output_type": "execute_result"
    }
   ],
   "source": [
    "len(x_train[0])"
   ]
  },
  {
   "cell_type": "code",
   "execution_count": 30,
   "metadata": {
    "ExecuteTime": {
     "end_time": "2018-09-18T18:35:30.310301Z",
     "start_time": "2018-09-18T18:35:30.060582Z"
    },
    "collapsed": true
   },
   "outputs": [],
   "source": [
    "# 将序列反转\n",
    "x_train = [x[::-1] for x in x_train]\n",
    "x_test = [x[::-1] for x in x_test]"
   ]
  },
  {
   "cell_type": "code",
   "execution_count": 31,
   "metadata": {
    "ExecuteTime": {
     "end_time": "2018-09-18T18:35:31.348875Z",
     "start_time": "2018-09-18T18:35:30.311823Z"
    },
    "collapsed": true
   },
   "outputs": [],
   "source": [
    "# 填充序列\n",
    "x_train = sequence.pad_sequences(x_train, maxlen=maxlen)\n",
    "x_test = sequence.pad_sequences(x_test, maxlen=maxlen)"
   ]
  },
  {
   "cell_type": "code",
   "execution_count": 32,
   "metadata": {
    "ExecuteTime": {
     "end_time": "2018-09-18T18:49:05.211631Z",
     "start_time": "2018-09-18T18:35:31.350195Z"
    }
   },
   "outputs": [
    {
     "name": "stdout",
     "output_type": "stream",
     "text": [
      "Train on 20000 samples, validate on 5000 samples\n",
      "Epoch 1/10\n",
      "20000/20000 [==============================] - 82s 4ms/step - loss: 0.4977 - acc: 0.7659 - val_loss: 0.5229 - val_acc: 0.7700\n",
      "Epoch 2/10\n",
      "20000/20000 [==============================] - 81s 4ms/step - loss: 0.3102 - acc: 0.8825 - val_loss: 0.4093 - val_acc: 0.8224\n",
      "Epoch 3/10\n",
      "20000/20000 [==============================] - 81s 4ms/step - loss: 0.2573 - acc: 0.9043 - val_loss: 0.3422 - val_acc: 0.8562\n",
      "Epoch 4/10\n",
      "20000/20000 [==============================] - 81s 4ms/step - loss: 0.2194 - acc: 0.9190 - val_loss: 0.3956 - val_acc: 0.8692\n",
      "Epoch 5/10\n",
      "20000/20000 [==============================] - 81s 4ms/step - loss: 0.1879 - acc: 0.9331 - val_loss: 0.3343 - val_acc: 0.8738\n",
      "Epoch 6/10\n",
      "20000/20000 [==============================] - 81s 4ms/step - loss: 0.1733 - acc: 0.9385 - val_loss: 0.3823 - val_acc: 0.8744\n",
      "Epoch 7/10\n",
      "20000/20000 [==============================] - 81s 4ms/step - loss: 0.1561 - acc: 0.9470 - val_loss: 0.6037 - val_acc: 0.8424\n",
      "Epoch 8/10\n",
      "20000/20000 [==============================] - 81s 4ms/step - loss: 0.1437 - acc: 0.9502 - val_loss: 0.3934 - val_acc: 0.8694\n",
      "Epoch 9/10\n",
      "20000/20000 [==============================] - 81s 4ms/step - loss: 0.1409 - acc: 0.9533 - val_loss: 0.3927 - val_acc: 0.8614\n",
      "Epoch 10/10\n",
      "20000/20000 [==============================] - 81s 4ms/step - loss: 0.1205 - acc: 0.9593 - val_loss: 0.4328 - val_acc: 0.8544\n"
     ]
    }
   ],
   "source": [
    "model = Sequential()\n",
    "model.add(layers.Embedding(max_features, 128))\n",
    "model.add(layers.LSTM(32))\n",
    "model.add(layers.Dense(1, activation='sigmoid'))\n",
    "\n",
    "model.compile(optimizer='rmsprop',\n",
    "              loss='binary_crossentropy',\n",
    "              metrics=['acc'])\n",
    "history = model.fit(x_train, y_train,\n",
    "                    epochs=10,\n",
    "                    batch_size=128,\n",
    "                    validation_split=0.2)"
   ]
  },
  {
   "cell_type": "code",
   "execution_count": 33,
   "metadata": {
    "ExecuteTime": {
     "end_time": "2018-09-18T18:49:05.555413Z",
     "start_time": "2018-09-18T18:49:05.213365Z"
    }
   },
   "outputs": [
    {
     "data": {
      "image/png": "[encoded data removed]",
      "text/plain": [
       "<Figure size 720x864 with 2 Axes>"
      ]
     },
     "metadata": {},
     "output_type": "display_data"
    }
   ],
   "source": [
    "acc = history.history['acc']\n",
    "loss = history.history['loss']\n",
    "val_acc = history.history['val_acc']\n",
    "val_loss = history.history['val_loss']\n",
    "\n",
    "epochs = range(1, len(acc) + 1)\n",
    "\n",
    "fig, axes = plt.subplots(2, 1, figsize=(10, 12))\n",
    "axes[0].plot(epochs, loss, 'bo', label='Training loss')\n",
    "axes[0].plot(epochs, val_loss, 'b', label='Validation loss')\n",
    "axes[0].set_title(\"Training and validation loss\", fontsize=14)\n",
    "axes[0].legend()\n",
    "\n",
    "axes[1].plot(epochs, acc, 'bo', label='Training acc')\n",
    "axes[1].plot(epochs, val_acc, 'b', label='Validation acc')\n",
    "axes[1].set_title(\"Training and validation acc\", fontsize=14)\n",
    "axes[1].legend()\n",
    "\n",
    "plt.show()"
   ]
  },
  {
   "cell_type": "markdown",
   "metadata": {},
   "source": [
    "+ 使用双向RNN"
   ]
  },
  {
   "cell_type": "code",
   "execution_count": 34,
   "metadata": {
    "ExecuteTime": {
     "end_time": "2018-09-18T19:15:14.369691Z",
     "start_time": "2018-09-18T18:49:05.557237Z"
    }
   },
   "outputs": [
    {
     "name": "stdout",
     "output_type": "stream",
     "text": [
      "Train on 20000 samples, validate on 5000 samples\n",
      "Epoch 1/10\n",
      "20000/20000 [==============================] - 158s 8ms/step - loss: 0.5580 - acc: 0.7190 - val_loss: 0.8829 - val_acc: 0.6258\n",
      "Epoch 2/10\n",
      "20000/20000 [==============================] - 157s 8ms/step - loss: 0.3344 - acc: 0.8734 - val_loss: 0.3230 - val_acc: 0.8692\n",
      "Epoch 3/10\n",
      "20000/20000 [==============================] - 157s 8ms/step - loss: 0.2688 - acc: 0.9012 - val_loss: 0.3834 - val_acc: 0.8684\n",
      "Epoch 4/10\n",
      "20000/20000 [==============================] - 156s 8ms/step - loss: 0.2281 - acc: 0.9200 - val_loss: 0.2999 - val_acc: 0.8844\n",
      "Epoch 5/10\n",
      "20000/20000 [==============================] - 156s 8ms/step - loss: 0.2097 - acc: 0.9288 - val_loss: 0.3455 - val_acc: 0.8826\n",
      "Epoch 6/10\n",
      "20000/20000 [==============================] - 156s 8ms/step - loss: 0.1899 - acc: 0.9360 - val_loss: 0.4575 - val_acc: 0.8388\n",
      "Epoch 7/10\n",
      "20000/20000 [==============================] - 157s 8ms/step - loss: 0.1706 - acc: 0.9414 - val_loss: 0.3980 - val_acc: 0.8792\n",
      "Epoch 8/10\n",
      "20000/20000 [==============================] - 157s 8ms/step - loss: 0.1499 - acc: 0.9490 - val_loss: 0.4544 - val_acc: 0.8114\n",
      "Epoch 9/10\n",
      "20000/20000 [==============================] - 157s 8ms/step - loss: 0.1415 - acc: 0.9514 - val_loss: 0.4085 - val_acc: 0.8228\n",
      "Epoch 10/10\n",
      "20000/20000 [==============================] - 157s 8ms/step - loss: 0.1309 - acc: 0.9560 - val_loss: 0.3719 - val_acc: 0.8744\n"
     ]
    }
   ],
   "source": [
    "model = Sequential()\n",
    "model.add(layers.Embedding(max_features, 32))\n",
    "model.add(layers.Bidirectional(layers.LSTM(32)))\n",
    "model.add(layers.Dense(1, activation='sigmoid'))\n",
    "\n",
    "model.compile(optimizer='rmsprop',loss='binary_crossentropy',metrics=['acc'])\n",
    "history = model.fit(x_train, y_train,\n",
    "                    epochs=10,\n",
    "                    batch_size=128,\n",
    "                    validation_split=0.2)"
   ]
  },
  {
   "cell_type": "code",
   "execution_count": 35,
   "metadata": {
    "ExecuteTime": {
     "end_time": "2018-09-18T19:15:14.692498Z",
     "start_time": "2018-09-18T19:15:14.371678Z"
    }
   },
   "outputs": [
    {
     "data": {
      "image/png": "[encoded data removed]",
      "text/plain": [
       "<Figure size 720x864 with 2 Axes>"
      ]
     },
     "metadata": {},
     "output_type": "display_data"
    }
   ],
   "source": [
    "acc = history.history['acc']\n",
    "loss = history.history['loss']\n",
    "val_acc = history.history['val_acc']\n",
    "val_loss = history.history['val_loss']\n",
    "\n",
    "epochs = range(1, len(acc) + 1)\n",
    "\n",
    "fig, axes = plt.subplots(2, 1, figsize=(10, 12))\n",
    "axes[0].plot(epochs, loss, 'bo', label='Training loss')\n",
    "axes[0].plot(epochs, val_loss, 'b', label='Validation loss')\n",
    "axes[0].set_title(\"Training and validation loss\", fontsize=14)\n",
    "axes[0].legend()\n",
    "\n",
    "axes[1].plot(epochs, acc, 'bo', label='Training acc')\n",
    "axes[1].plot(epochs, val_acc, 'b', label='Validation acc')\n",
    "axes[1].set_title(\"Training and validation acc\", fontsize=14)\n",
    "axes[1].legend()\n",
    "\n",
    "plt.show()"
   ]
  },
  {
   "cell_type": "markdown",
   "metadata": {},
   "source": [
    "+ 将双向GRU应用于温度预测问题"
   ]
  },
  {
   "cell_type": "code",
   "execution_count": 36,
   "metadata": {
    "ExecuteTime": {
     "end_time": "2018-09-18T21:48:07.627533Z",
     "start_time": "2018-09-18T19:15:14.694028Z"
    }
   },
   "outputs": [
    {
     "name": "stdout",
     "output_type": "stream",
     "text": [
      "Epoch 1/40\n",
      "500/500 [==============================] - 230s 460ms/step - loss: 0.2930 - val_loss: 0.2739\n",
      "Epoch 2/40\n",
      "500/500 [==============================] - 228s 457ms/step - loss: 0.2743 - val_loss: 0.2727\n",
      "Epoch 3/40\n",
      "500/500 [==============================] - 228s 457ms/step - loss: 0.2665 - val_loss: 0.2717\n",
      "Epoch 4/40\n",
      "500/500 [==============================] - 228s 456ms/step - loss: 0.2627 - val_loss: 0.2709\n",
      "Epoch 5/40\n",
      "500/500 [==============================] - 229s 457ms/step - loss: 0.2549 - val_loss: 0.2720\n",
      "Epoch 6/40\n",
      "500/500 [==============================] - 229s 458ms/step - loss: 0.2483 - val_loss: 0.2713\n",
      "Epoch 7/40\n",
      "500/500 [==============================] - 229s 458ms/step - loss: 0.2444 - val_loss: 0.2795\n",
      "Epoch 8/40\n",
      "500/500 [==============================] - 229s 458ms/step - loss: 0.2394 - val_loss: 0.2783\n",
      "Epoch 9/40\n",
      "500/500 [==============================] - 230s 459ms/step - loss: 0.2328 - val_loss: 0.2816\n",
      "Epoch 10/40\n",
      "500/500 [==============================] - 229s 459ms/step - loss: 0.2278 - val_loss: 0.2816\n",
      "Epoch 11/40\n",
      "500/500 [==============================] - 229s 459ms/step - loss: 0.2224 - val_loss: 0.2859\n",
      "Epoch 12/40\n",
      "500/500 [==============================] - 229s 458ms/step - loss: 0.2172 - val_loss: 0.2888\n",
      "Epoch 13/40\n",
      "500/500 [==============================] - 229s 458ms/step - loss: 0.2109 - val_loss: 0.2928\n",
      "Epoch 14/40\n",
      "500/500 [==============================] - 230s 459ms/step - loss: 0.2077 - val_loss: 0.2992\n",
      "Epoch 15/40\n",
      "500/500 [==============================] - 229s 459ms/step - loss: 0.2025 - val_loss: 0.3008\n",
      "Epoch 16/40\n",
      "500/500 [==============================] - 229s 458ms/step - loss: 0.1980 - val_loss: 0.3074\n",
      "Epoch 17/40\n",
      "500/500 [==============================] - 229s 459ms/step - loss: 0.1913 - val_loss: 0.3047\n",
      "Epoch 18/40\n",
      "500/500 [==============================] - 230s 459ms/step - loss: 0.1894 - val_loss: 0.3082\n",
      "Epoch 19/40\n",
      "500/500 [==============================] - 230s 460ms/step - loss: 0.1846 - val_loss: 0.3088\n",
      "Epoch 20/40\n",
      "500/500 [==============================] - 230s 459ms/step - loss: 0.1805 - val_loss: 0.3147\n",
      "Epoch 21/40\n",
      "500/500 [==============================] - 229s 458ms/step - loss: 0.1758 - val_loss: 0.3125\n",
      "Epoch 22/40\n",
      "500/500 [==============================] - 229s 459ms/step - loss: 0.1730 - val_loss: 0.3172\n",
      "Epoch 23/40\n",
      "500/500 [==============================] - 229s 459ms/step - loss: 0.1689 - val_loss: 0.3174\n",
      "Epoch 24/40\n",
      "500/500 [==============================] - 230s 460ms/step - loss: 0.1650 - val_loss: 0.3214\n",
      "Epoch 25/40\n",
      "500/500 [==============================] - 229s 458ms/step - loss: 0.1626 - val_loss: 0.3209\n",
      "Epoch 26/40\n",
      "500/500 [==============================] - 230s 459ms/step - loss: 0.1605 - val_loss: 0.3233\n",
      "Epoch 27/40\n",
      "500/500 [==============================] - 229s 459ms/step - loss: 0.1581 - val_loss: 0.3255\n",
      "Epoch 28/40\n",
      "500/500 [==============================] - 229s 458ms/step - loss: 0.1540 - val_loss: 0.3221\n",
      "Epoch 29/40\n",
      "500/500 [==============================] - 229s 458ms/step - loss: 0.1532 - val_loss: 0.3286\n",
      "Epoch 30/40\n",
      "500/500 [==============================] - 229s 459ms/step - loss: 0.1519 - val_loss: 0.3315\n",
      "Epoch 31/40\n",
      "500/500 [==============================] - 230s 459ms/step - loss: 0.1501 - val_loss: 0.3221\n",
      "Epoch 32/40\n",
      "500/500 [==============================] - 230s 459ms/step - loss: 0.1474 - val_loss: 0.3258\n",
      "Epoch 33/40\n",
      "500/500 [==============================] - 229s 459ms/step - loss: 0.1453 - val_loss: 0.3271\n",
      "Epoch 34/40\n",
      "500/500 [==============================] - 229s 459ms/step - loss: 0.1438 - val_loss: 0.3273\n",
      "Epoch 35/40\n",
      "500/500 [==============================] - 229s 458ms/step - loss: 0.1432 - val_loss: 0.3304\n",
      "Epoch 36/40\n",
      "500/500 [==============================] - 230s 459ms/step - loss: 0.1418 - val_loss: 0.3328\n",
      "Epoch 37/40\n",
      "500/500 [==============================] - 230s 460ms/step - loss: 0.1401 - val_loss: 0.3327\n",
      "Epoch 38/40\n",
      "500/500 [==============================] - 229s 458ms/step - loss: 0.1380 - val_loss: 0.3335\n",
      "Epoch 39/40\n",
      "500/500 [==============================] - 229s 458ms/step - loss: 0.1375 - val_loss: 0.3326\n",
      "Epoch 40/40\n",
      "500/500 [==============================] - 230s 460ms/step - loss: 0.1359 - val_loss: 0.3335\n"
     ]
    }
   ],
   "source": [
    "model = Sequential()\n",
    "model.add(layers.Bidirectional(layers.GRU(32),\n",
    "                               input_shape=(None, float_data.shape[-1])))\n",
    "model.add(layers.Dense(1))\n",
    "\n",
    "model.compile(optimizer=RMSprop(), loss='mae')\n",
    "history = model.fit_generator(train_gen,\n",
    "                              steps_per_epoch=500,\n",
    "                              epochs=40,\n",
    "                              validation_data=val_gen,\n",
    "                              validation_steps=val_steps)"
   ]
  },
  {
   "cell_type": "code",
   "execution_count": 37,
   "metadata": {
    "ExecuteTime": {
     "end_time": "2018-09-18T21:48:07.824300Z",
     "start_time": "2018-09-18T21:48:07.629008Z"
    }
   },
   "outputs": [
    {
     "data": {
      "image/png": "[encoded data removed]",
      "text/plain": [
       "<Figure size 720x432 with 1 Axes>"
      ]
     },
     "metadata": {},
     "output_type": "display_data"
    }
   ],
   "source": [
    "loss = history.history['loss']\n",
    "val_loss = history.history['val_loss']\n",
    "epochs = range(1, len(loss) + 1)\n",
    "\n",
    "plt.figure(figsize=(10, 6))\n",
    "plt.plot(epochs, loss, 'bo', label='Training loss')\n",
    "plt.plot(epochs, val_loss, 'b', label='Validation loss')\n",
    "plt.legend()\n",
    "plt.title('Training and validation loss')\n",
    "plt.show()"
   ]
  },
  {
   "cell_type": "markdown",
   "metadata": {},
   "source": [
    "**双向RNN从两个方向查看一个序列，对自然语言处理问题非常有用。但如果在序列数据中最近的数据比序列开头包含更多的信息，那么这种方法的效果就不明显。**"
   ]
  },
  {
   "cell_type": "markdown",
   "metadata": {},
   "source": [
    "**为提高温度预测问题的性能，可以尝试：**\n",
    "1. 在堆叠循环层中调节每层的单元个数。当前取值在很大程度上是任意选择的，因此可能不是最优的。\n",
    "2. 调节RMSprop优化器的学习率。\n",
    "3. 尝试使用LSTM层代替GRU层。\n",
    "4. 在循环层上面尝试使用更大的密集连接回归器，即更大的Dense层或Dense层堆叠。\n",
    "5. 最后在测试集上运行性能最佳的模型（即验证MAE最小的模型）。否则，开发的网络架构将会对验证集过拟合。"
   ]
  }
 ],
 "metadata": {
  "kernelspec": {
   "display_name": "Python [conda env:tf]",
   "language": "python",
   "name": "conda-env-tf-py"
  },
  "language_info": {
   "codemirror_mode": {
    "name": "ipython",
    "version": 3
   },
   "file_extension": ".py",
   "mimetype": "text/x-python",
   "name": "python",
   "nbconvert_exporter": "python",
   "pygments_lexer": "ipython3",
   "version": "3.6.2"
  },
  "toc": {
   "base_numbering": 1,
   "nav_menu": {},
   "number_sections": true,
   "sideBar": true,
   "skip_h1_title": false,
   "title_cell": "Table of Contents",
   "title_sidebar": "Contents",
   "toc_cell": false,
   "toc_position": {},
   "toc_section_display": true,
   "toc_window_display": false
  },
  "varInspector": {
   "cols": {
    "lenName": 16,
    "lenType": 16,
    "lenVar": 40
   },
   "kernels_config": {
    "python": {
     "delete_cmd_postfix": "",
     "delete_cmd_prefix": "del ",
     "library": "var_list.py",
     "varRefreshCmd": "print(var_dic_list())"
    },
    "r": {
     "delete_cmd_postfix": ") ",
     "delete_cmd_prefix": "rm(",
     "library": "var_list.r",
     "varRefreshCmd": "cat(var_dic_list()) "
    }
   },
   "types_to_exclude": [
    "module",
    "function",
    "builtin_function_or_method",
    "instance",
    "_Feature"
   ],
   "window_display": false
  }
 },
 "nbformat": 4,
 "nbformat_minor": 2
}
