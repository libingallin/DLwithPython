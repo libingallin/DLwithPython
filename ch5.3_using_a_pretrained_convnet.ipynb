{
 "cells": [
  {
   "cell_type": "markdown",
   "metadata": {},
   "source": [
    "# 使用预训练的convnet"
   ]
  },
  {
   "cell_type": "markdown",
   "metadata": {},
   "source": [
    "想要将深度学习应用于一个小型图像数据集，一种常用且非常高效的方法是使用预训练网络。\n",
    "\n",
    "**预训练网络（pretrained network）**是一个保存好的网络，之前在大型数据集（通常是大规模图像分类任务）上训练好。如果这个原始数据集足够大且足够通用，那么预训练网络学到的特征的空间层次结构可以有效地作为视觉世界的通用模型，因此这些特征可用于各种不同的计算机视觉问题，即使这些新问题涉及的类别和原始任务完全不同。\n",
    "\n",
    "这种学到的特征在不同问题之间的可移植性，是深度学习与许多早期浅层学习方法相比的重要优势，它使得深度学习对小型数据集问题非常有效。"
   ]
  },
  {
   "cell_type": "markdown",
   "metadata": {},
   "source": [
    "**使用预训练网络有两种方法：**\n",
    "1. 特征提取（feature extraction）\n",
    "2. 微调模型（fine tunning）"
   ]
  },
  {
   "cell_type": "markdown",
   "metadata": {},
   "source": [
    "## 特征提取"
   ]
  },
  {
   "cell_type": "markdown",
   "metadata": {},
   "source": [
    "**特征提取**是使用之前网络学到的表示来从新样本中提取出有趣的特征。然后将这些特征输入到一个新分类器中，从头开始训练。\n",
    "\n",
    "对于卷积神经网络来说，特征提取就是取出之前训练好的网络的卷积基（convolutional base），在上面运行新数据，然后在输出上面训练一个新的分类器。"
   ]
  },
  {
   "cell_type": "code",
   "execution_count": 1,
   "metadata": {
    "ExecuteTime": {
     "end_time": "2018-09-05T02:25:49.262009Z",
     "start_time": "2018-09-05T02:25:48.952624Z"
    },
    "collapsed": true
   },
   "outputs": [],
   "source": [
    "import numpy as np\n",
    "import os\n",
    "\n",
    "# To plot pretty figures\n",
    "%matplotlib inline\n",
    "import matplotlib\n",
    "import matplotlib.pyplot as plt\n",
    "plt.rcParams['axes.labelsize'] = 14\n",
    "plt.rcParams['xtick.labelsize'] = 12\n",
    "plt.rcParams['ytick.labelsize'] = 12"
   ]
  },
  {
   "cell_type": "code",
   "execution_count": 2,
   "metadata": {
    "ExecuteTime": {
     "end_time": "2018-09-05T02:25:51.526994Z",
     "start_time": "2018-09-05T02:25:49.263623Z"
    }
   },
   "outputs": [
    {
     "name": "stderr",
     "output_type": "stream",
     "text": [
      "Using TensorFlow backend.\n"
     ]
    }
   ],
   "source": [
    "# 将VGG16卷积基实例化\n",
    "from keras.applications import VGG16\n",
    "\n",
    "conv_base = VGG16(weights='imagenet',\n",
    "                  include_top=False,\n",
    "                  input_shape=(150, 150, 3))"
   ]
  },
  {
   "cell_type": "code",
   "execution_count": 3,
   "metadata": {
    "ExecuteTime": {
     "end_time": "2018-09-05T02:25:51.536832Z",
     "start_time": "2018-09-05T02:25:51.528827Z"
    }
   },
   "outputs": [
    {
     "name": "stdout",
     "output_type": "stream",
     "text": [
      "_________________________________________________________________\n",
      "Layer (type)                 Output Shape              Param #   \n",
      "=================================================================\n",
      "input_1 (InputLayer)         (None, 150, 150, 3)       0         \n",
      "_________________________________________________________________\n",
      "block1_conv1 (Conv2D)        (None, 150, 150, 64)      1792      \n",
      "_________________________________________________________________\n",
      "block1_conv2 (Conv2D)        (None, 150, 150, 64)      36928     \n",
      "_________________________________________________________________\n",
      "block1_pool (MaxPooling2D)   (None, 75, 75, 64)        0         \n",
      "_________________________________________________________________\n",
      "block2_conv1 (Conv2D)        (None, 75, 75, 128)       73856     \n",
      "_________________________________________________________________\n",
      "block2_conv2 (Conv2D)        (None, 75, 75, 128)       147584    \n",
      "_________________________________________________________________\n",
      "block2_pool (MaxPooling2D)   (None, 37, 37, 128)       0         \n",
      "_________________________________________________________________\n",
      "block3_conv1 (Conv2D)        (None, 37, 37, 256)       295168    \n",
      "_________________________________________________________________\n",
      "block3_conv2 (Conv2D)        (None, 37, 37, 256)       590080    \n",
      "_________________________________________________________________\n",
      "block3_conv3 (Conv2D)        (None, 37, 37, 256)       590080    \n",
      "_________________________________________________________________\n",
      "block3_pool (MaxPooling2D)   (None, 18, 18, 256)       0         \n",
      "_________________________________________________________________\n",
      "block4_conv1 (Conv2D)        (None, 18, 18, 512)       1180160   \n",
      "_________________________________________________________________\n",
      "block4_conv2 (Conv2D)        (None, 18, 18, 512)       2359808   \n",
      "_________________________________________________________________\n",
      "block4_conv3 (Conv2D)        (None, 18, 18, 512)       2359808   \n",
      "_________________________________________________________________\n",
      "block4_pool (MaxPooling2D)   (None, 9, 9, 512)         0         \n",
      "_________________________________________________________________\n",
      "block5_conv1 (Conv2D)        (None, 9, 9, 512)         2359808   \n",
      "_________________________________________________________________\n",
      "block5_conv2 (Conv2D)        (None, 9, 9, 512)         2359808   \n",
      "_________________________________________________________________\n",
      "block5_conv3 (Conv2D)        (None, 9, 9, 512)         2359808   \n",
      "_________________________________________________________________\n",
      "block5_pool (MaxPooling2D)   (None, 4, 4, 512)         0         \n",
      "=================================================================\n",
      "Total params: 14,714,688\n",
      "Trainable params: 14,714,688\n",
      "Non-trainable params: 0\n",
      "_________________________________________________________________\n"
     ]
    }
   ],
   "source": [
    "conv_base.summary()"
   ]
  },
  {
   "cell_type": "markdown",
   "metadata": {
    "ExecuteTime": {
     "end_time": "2018-09-05T00:13:08.924999Z",
     "start_time": "2018-09-05T00:13:08.918401Z"
    }
   },
   "source": [
    "### 不使用数据增强的快速特征提取"
   ]
  },
  {
   "cell_type": "markdown",
   "metadata": {},
   "source": [
    "在数据集上运行卷积基，将输出保存成硬盘中的NumPy数组，然后用这个数据作为输入，输入到独立的密集连接分类器中。不允许使用数据增强。"
   ]
  },
  {
   "cell_type": "code",
   "execution_count": 4,
   "metadata": {
    "ExecuteTime": {
     "end_time": "2018-09-05T02:26:54.462384Z",
     "start_time": "2018-09-05T02:25:51.538408Z"
    }
   },
   "outputs": [
    {
     "name": "stdout",
     "output_type": "stream",
     "text": [
      "Found 2000 images belonging to 2 classes.\n",
      "Found 1000 images belonging to 2 classes.\n",
      "Found 1000 images belonging to 2 classes.\n"
     ]
    }
   ],
   "source": [
    "# 使用预训练的卷积基提取特征\n",
    "from keras.preprocessing.image import ImageDataGenerator\n",
    "\n",
    "base_dir = '/home/bingli/Downloads/cats_and_dogs_small'\n",
    "\n",
    "train_dir = os.path.join(base_dir, 'train')\n",
    "validation_dir = os.path.join(base_dir, 'validation')\n",
    "test_dir = os.path.join(base_dir, 'test')\n",
    "\n",
    "# 将图像处理成NumPy数组\n",
    "datagen = ImageDataGenerator(rescale=1./255)\n",
    "batch_size = 20\n",
    "\n",
    "def extract_features(directory, sample_count):\n",
    "    features = np.zeros(shape=(sample_count, 4, 4, 512))\n",
    "    labels = np.zeros(shape=(sample_count))\n",
    "    generator = datagen.flow_from_directory(\n",
    "        directory,\n",
    "        target_size=(150, 150),\n",
    "        batch_size=batch_size,\n",
    "        class_mode='binary')\n",
    "    i = 0\n",
    "    for inputs_batch, labels_batch in generator:\n",
    "        features_batch = conv_base.predict(inputs_batch)\n",
    "        features[i * batch_size : (i + 1) * batch_size] = features_batch\n",
    "        labels[i * batch_size : (i + 1) * batch_size] = labels_batch\n",
    "        i += 1\n",
    "        if i * batch_size >= sample_count:\n",
    "            # Note that since generators yield data indefinitely in a loop,\n",
    "            # we must `break` after every image has been seen once.\n",
    "            break\n",
    "    return features, labels\n",
    "\n",
    "train_features, train_labels = extract_features(train_dir, 2000)\n",
    "validation_features, validation_labels = extract_features(validation_dir, 1000)\n",
    "test_features, test_labels = extract_features(test_dir, 1000)"
   ]
  },
  {
   "cell_type": "code",
   "execution_count": 5,
   "metadata": {
    "ExecuteTime": {
     "end_time": "2018-09-05T02:26:54.470666Z",
     "start_time": "2018-09-05T02:26:54.464664Z"
    }
   },
   "outputs": [
    {
     "data": {
      "text/plain": [
       "(2000, 4, 4, 512)"
      ]
     },
     "execution_count": 5,
     "metadata": {},
     "output_type": "execute_result"
    }
   ],
   "source": [
    "train_features.shape"
   ]
  },
  {
   "cell_type": "code",
   "execution_count": 6,
   "metadata": {
    "ExecuteTime": {
     "end_time": "2018-09-05T02:26:54.478713Z",
     "start_time": "2018-09-05T02:26:54.473166Z"
    },
    "collapsed": true
   },
   "outputs": [],
   "source": [
    "# 展平\n",
    "train_features = np.reshape(train_features, (2000, 4 * 4 * 512))\n",
    "validation_features = np.reshape(validation_features, (1000, 4 * 4 * 512))\n",
    "test_features = np.reshape(test_features, (1000, 4 * 4 * 512))"
   ]
  },
  {
   "cell_type": "code",
   "execution_count": 7,
   "metadata": {
    "ExecuteTime": {
     "end_time": "2018-09-05T02:27:19.255466Z",
     "start_time": "2018-09-05T02:26:54.480406Z"
    }
   },
   "outputs": [
    {
     "name": "stdout",
     "output_type": "stream",
     "text": [
      "Train on 2000 samples, validate on 1000 samples\n",
      "Epoch 1/30\n",
      "2000/2000 [==============================] - 1s 630us/step - loss: 0.6074 - acc: 0.6585 - val_loss: 0.4342 - val_acc: 0.8420\n",
      "Epoch 2/30\n",
      "2000/2000 [==============================] - 1s 469us/step - loss: 0.4190 - acc: 0.8250 - val_loss: 0.3586 - val_acc: 0.8580\n",
      "Epoch 3/30\n",
      "2000/2000 [==============================] - 1s 383us/step - loss: 0.3552 - acc: 0.8420 - val_loss: 0.3243 - val_acc: 0.8670\n",
      "Epoch 4/30\n",
      "2000/2000 [==============================] - 1s 372us/step - loss: 0.3222 - acc: 0.8710 - val_loss: 0.3040 - val_acc: 0.8750\n",
      "Epoch 5/30\n",
      "2000/2000 [==============================] - 1s 373us/step - loss: 0.2785 - acc: 0.8875 - val_loss: 0.2847 - val_acc: 0.8810\n",
      "Epoch 6/30\n",
      "2000/2000 [==============================] - 1s 399us/step - loss: 0.2652 - acc: 0.8895 - val_loss: 0.2795 - val_acc: 0.8820\n",
      "Epoch 7/30\n",
      "2000/2000 [==============================] - 1s 391us/step - loss: 0.2545 - acc: 0.8995 - val_loss: 0.2706 - val_acc: 0.8920\n",
      "Epoch 8/30\n",
      "2000/2000 [==============================] - 1s 446us/step - loss: 0.2321 - acc: 0.9095 - val_loss: 0.2592 - val_acc: 0.8890\n",
      "Epoch 9/30\n",
      "2000/2000 [==============================] - 1s 375us/step - loss: 0.2213 - acc: 0.9170 - val_loss: 0.2612 - val_acc: 0.8910\n",
      "Epoch 10/30\n",
      "2000/2000 [==============================] - 1s 376us/step - loss: 0.2117 - acc: 0.9195 - val_loss: 0.2517 - val_acc: 0.8940\n",
      "Epoch 11/30\n",
      "2000/2000 [==============================] - 1s 383us/step - loss: 0.1975 - acc: 0.9295 - val_loss: 0.2508 - val_acc: 0.8940\n",
      "Epoch 12/30\n",
      "2000/2000 [==============================] - 1s 383us/step - loss: 0.1896 - acc: 0.9305 - val_loss: 0.2484 - val_acc: 0.8930\n",
      "Epoch 13/30\n",
      "2000/2000 [==============================] - 1s 383us/step - loss: 0.1865 - acc: 0.9345 - val_loss: 0.2408 - val_acc: 0.8980\n",
      "Epoch 14/30\n",
      "2000/2000 [==============================] - 1s 428us/step - loss: 0.1735 - acc: 0.9390 - val_loss: 0.2513 - val_acc: 0.8980\n",
      "Epoch 15/30\n",
      "2000/2000 [==============================] - 1s 376us/step - loss: 0.1614 - acc: 0.9400 - val_loss: 0.2388 - val_acc: 0.8970\n",
      "Epoch 16/30\n",
      "2000/2000 [==============================] - 1s 381us/step - loss: 0.1592 - acc: 0.9395 - val_loss: 0.2409 - val_acc: 0.8970\n",
      "Epoch 17/30\n",
      "2000/2000 [==============================] - 1s 422us/step - loss: 0.1472 - acc: 0.9465 - val_loss: 0.2375 - val_acc: 0.8980\n",
      "Epoch 18/30\n",
      "2000/2000 [==============================] - 1s 446us/step - loss: 0.1434 - acc: 0.9510 - val_loss: 0.2379 - val_acc: 0.8980\n",
      "Epoch 19/30\n",
      "2000/2000 [==============================] - 1s 437us/step - loss: 0.1391 - acc: 0.9575 - val_loss: 0.2583 - val_acc: 0.8930\n",
      "Epoch 20/30\n",
      "2000/2000 [==============================] - 1s 400us/step - loss: 0.1319 - acc: 0.9570 - val_loss: 0.2334 - val_acc: 0.9030\n",
      "Epoch 21/30\n",
      "2000/2000 [==============================] - 1s 424us/step - loss: 0.1307 - acc: 0.9545 - val_loss: 0.2362 - val_acc: 0.9000\n",
      "Epoch 22/30\n",
      "2000/2000 [==============================] - 1s 381us/step - loss: 0.1268 - acc: 0.9585 - val_loss: 0.2433 - val_acc: 0.9010\n",
      "Epoch 23/30\n",
      "2000/2000 [==============================] - 1s 378us/step - loss: 0.1191 - acc: 0.9605 - val_loss: 0.2349 - val_acc: 0.9020\n",
      "Epoch 24/30\n",
      "2000/2000 [==============================] - 1s 381us/step - loss: 0.1168 - acc: 0.9600 - val_loss: 0.2399 - val_acc: 0.9010\n",
      "Epoch 25/30\n",
      "2000/2000 [==============================] - 1s 380us/step - loss: 0.1121 - acc: 0.9610 - val_loss: 0.2358 - val_acc: 0.9030\n",
      "Epoch 26/30\n",
      "2000/2000 [==============================] - 1s 377us/step - loss: 0.1064 - acc: 0.9690 - val_loss: 0.2385 - val_acc: 0.9010\n",
      "Epoch 27/30\n",
      "2000/2000 [==============================] - 1s 379us/step - loss: 0.1048 - acc: 0.9655 - val_loss: 0.2429 - val_acc: 0.9040\n",
      "Epoch 28/30\n",
      "2000/2000 [==============================] - 1s 386us/step - loss: 0.0937 - acc: 0.9695 - val_loss: 0.2482 - val_acc: 0.9000\n",
      "Epoch 29/30\n",
      "2000/2000 [==============================] - 1s 432us/step - loss: 0.0920 - acc: 0.9725 - val_loss: 0.2411 - val_acc: 0.9010\n",
      "Epoch 30/30\n",
      "2000/2000 [==============================] - 1s 419us/step - loss: 0.0929 - acc: 0.9730 - val_loss: 0.2507 - val_acc: 0.8990\n"
     ]
    }
   ],
   "source": [
    "# 密集连接分类器\n",
    "from keras import models\n",
    "from keras import layers\n",
    "from keras import optimizers\n",
    "\n",
    "model = models.Sequential()\n",
    "model.add(layers.Dense(256, activation='relu', input_dim=4 * 4 * 512))\n",
    "model.add(layers.Dropout(0.5))\n",
    "model.add(layers.Dense(1, activation='sigmoid'))\n",
    "\n",
    "# Compile\n",
    "model.compile(optimizer=optimizers.RMSprop(lr=2e-5),\n",
    "              loss='binary_crossentropy',\n",
    "              metrics=['acc'])\n",
    "\n",
    "# Fit the model\n",
    "history = model.fit(train_features, train_labels,\n",
    "                    epochs=30,\n",
    "                    batch_size=20,\n",
    "                    validation_data=(validation_features, validation_labels))"
   ]
  },
  {
   "cell_type": "markdown",
   "metadata": {},
   "source": [
    "> 训练速度非常快。"
   ]
  },
  {
   "cell_type": "code",
   "execution_count": 8,
   "metadata": {
    "ExecuteTime": {
     "end_time": "2018-09-05T02:27:19.643044Z",
     "start_time": "2018-09-05T02:27:19.257002Z"
    }
   },
   "outputs": [
    {
     "data": {
      "image/png": "[encoded data removed]",
      "text/plain": [
       "<Figure size 720x360 with 1 Axes>"
      ]
     },
     "metadata": {},
     "output_type": "display_data"
    },
    {
     "data": {
      "image/png": "[encoded data removed]",
      "text/plain": [
       "<Figure size 720x360 with 1 Axes>"
      ]
     },
     "metadata": {},
     "output_type": "display_data"
    }
   ],
   "source": [
    "acc = history.history['acc']\n",
    "val_acc = history.history['val_acc']\n",
    "loss = history.history['loss']\n",
    "val_loss = history.history['val_loss']\n",
    "\n",
    "epochs = range(1, len(acc) + 1)\n",
    "\n",
    "plt.figure(figsize=(10, 5))\n",
    "plt.plot(epochs, acc, 'bo', label='Training acc')\n",
    "plt.plot(epochs, val_acc, 'b', label='Validation acc')\n",
    "plt.title(\"Training and validation accuracy\", fontsize=14)\n",
    "plt.legend()\n",
    "\n",
    "plt.figure(figsize=(10, 5))\n",
    "plt.plot(epochs, loss, 'bo', label=\"Training loss\")\n",
    "plt.plot(epochs, val_loss, 'b', label=\"Validation loss\")\n",
    "plt.title(\"Training and validation loss\", fontsize=14)\n",
    "plt.legend()\n",
    "\n",
    "plt.show()"
   ]
  },
  {
   "cell_type": "markdown",
   "metadata": {},
   "source": [
    "> 验证精度达到了90%左右，比从头开始训练的小型模型效果要好得多。虽然dropout比率相当大，但模型几乎从一开始就过拟合。这是因为本方法没有使用数据增强，而数据增强对防止小型图像数据集的过拟合非常重要。"
   ]
  },
  {
   "cell_type": "markdown",
   "metadata": {},
   "source": [
    "### 使用数据增强的特征提取"
   ]
  },
  {
   "cell_type": "markdown",
   "metadata": {},
   "source": [
    "扩展`conv_base`模型，然后在输入数据上端到端地运行模型。可以在训练期间使用数据增强。"
   ]
  },
  {
   "cell_type": "code",
   "execution_count": 9,
   "metadata": {
    "ExecuteTime": {
     "end_time": "2018-09-05T02:27:19.751353Z",
     "start_time": "2018-09-05T02:27:19.644607Z"
    },
    "collapsed": true
   },
   "outputs": [],
   "source": [
    "model = models.Sequential()\n",
    "model.add(conv_base)\n",
    "model.add(layers.Flatten())\n",
    "model.add(layers.Dense(256, activation='relu'))\n",
    "model.add(layers.Dense(1, activation='sigmoid'))"
   ]
  },
  {
   "cell_type": "code",
   "execution_count": 10,
   "metadata": {
    "ExecuteTime": {
     "end_time": "2018-09-05T02:27:19.760729Z",
     "start_time": "2018-09-05T02:27:19.753092Z"
    }
   },
   "outputs": [
    {
     "name": "stdout",
     "output_type": "stream",
     "text": [
      "_________________________________________________________________\n",
      "Layer (type)                 Output Shape              Param #   \n",
      "=================================================================\n",
      "vgg16 (Model)                (None, 4, 4, 512)         14714688  \n",
      "_________________________________________________________________\n",
      "flatten_1 (Flatten)          (None, 8192)              0         \n",
      "_________________________________________________________________\n",
      "dense_3 (Dense)              (None, 256)               2097408   \n",
      "_________________________________________________________________\n",
      "dense_4 (Dense)              (None, 1)                 257       \n",
      "=================================================================\n",
      "Total params: 16,812,353\n",
      "Trainable params: 16,812,353\n",
      "Non-trainable params: 0\n",
      "_________________________________________________________________\n"
     ]
    }
   ],
   "source": [
    "model.summary()"
   ]
  },
  {
   "cell_type": "markdown",
   "metadata": {},
   "source": [
    "在编译和训练模型之前，一定要冻结卷积基（即在训练过程中保持其权重不变）。不这么做，卷积基之前学到的表示将会在训练过程中被修改。\n",
    "\n",
    "**在keras中，冻结网络的方法是将其`trainalbe`属性设为`False`。**"
   ]
  },
  {
   "cell_type": "code",
   "execution_count": 11,
   "metadata": {
    "ExecuteTime": {
     "end_time": "2018-09-05T02:27:19.768789Z",
     "start_time": "2018-09-05T02:27:19.763381Z"
    }
   },
   "outputs": [
    {
     "data": {
      "text/plain": [
       "30"
      ]
     },
     "execution_count": 11,
     "metadata": {},
     "output_type": "execute_result"
    }
   ],
   "source": [
    "# The number of trainable weights before freezing the conv base\n",
    "len(model.trainable_weights)"
   ]
  },
  {
   "cell_type": "code",
   "execution_count": 12,
   "metadata": {
    "ExecuteTime": {
     "end_time": "2018-09-05T02:27:19.777417Z",
     "start_time": "2018-09-05T02:27:19.771651Z"
    }
   },
   "outputs": [
    {
     "data": {
      "text/plain": [
       "4"
      ]
     },
     "execution_count": 12,
     "metadata": {},
     "output_type": "execute_result"
    }
   ],
   "source": [
    "# Freeze\n",
    "conv_base.trainable = False\n",
    "# The number of trainable weights after freezing the conv base\n",
    "len(model.trainable_weights)"
   ]
  },
  {
   "cell_type": "code",
   "execution_count": 13,
   "metadata": {
    "ExecuteTime": {
     "end_time": "2018-09-05T02:43:45.066337Z",
     "start_time": "2018-09-05T02:27:19.779680Z"
    }
   },
   "outputs": [
    {
     "name": "stdout",
     "output_type": "stream",
     "text": [
      "Found 2000 images belonging to 2 classes.\n",
      "Found 1000 images belonging to 2 classes.\n",
      "Epoch 1/30\n",
      " - 34s - loss: 0.5797 - acc: 0.7175 - val_loss: 0.4385 - val_acc: 0.8270\n",
      "Epoch 2/30\n",
      " - 33s - loss: 0.4805 - acc: 0.7875 - val_loss: 0.3657 - val_acc: 0.8660\n",
      "Epoch 3/30\n",
      " - 33s - loss: 0.4274 - acc: 0.8040 - val_loss: 0.3328 - val_acc: 0.8770\n",
      "Epoch 4/30\n",
      " - 33s - loss: 0.4002 - acc: 0.8300 - val_loss: 0.3101 - val_acc: 0.8720\n",
      "Epoch 5/30\n",
      " - 33s - loss: 0.3849 - acc: 0.8330 - val_loss: 0.3025 - val_acc: 0.8830\n",
      "Epoch 6/30\n",
      " - 33s - loss: 0.3696 - acc: 0.8405 - val_loss: 0.2783 - val_acc: 0.8950\n",
      "Epoch 7/30\n",
      " - 33s - loss: 0.3744 - acc: 0.8285 - val_loss: 0.2688 - val_acc: 0.8970\n",
      "Epoch 8/30\n",
      " - 33s - loss: 0.3583 - acc: 0.8405 - val_loss: 0.2666 - val_acc: 0.8940\n",
      "Epoch 9/30\n",
      " - 33s - loss: 0.3457 - acc: 0.8520 - val_loss: 0.2653 - val_acc: 0.8890\n",
      "Epoch 10/30\n",
      " - 33s - loss: 0.3390 - acc: 0.8555 - val_loss: 0.2587 - val_acc: 0.9000\n",
      "Epoch 11/30\n",
      " - 33s - loss: 0.3272 - acc: 0.8640 - val_loss: 0.2534 - val_acc: 0.8990\n",
      "Epoch 12/30\n",
      " - 33s - loss: 0.3290 - acc: 0.8495 - val_loss: 0.2487 - val_acc: 0.9020\n",
      "Epoch 13/30\n",
      " - 33s - loss: 0.3190 - acc: 0.8570 - val_loss: 0.2507 - val_acc: 0.8970\n",
      "Epoch 14/30\n",
      " - 33s - loss: 0.3179 - acc: 0.8635 - val_loss: 0.2489 - val_acc: 0.8980\n",
      "Epoch 15/30\n",
      " - 33s - loss: 0.3135 - acc: 0.8590 - val_loss: 0.2489 - val_acc: 0.9000\n",
      "Epoch 16/30\n",
      " - 33s - loss: 0.3104 - acc: 0.8615 - val_loss: 0.2427 - val_acc: 0.9000\n",
      "Epoch 17/30\n",
      " - 33s - loss: 0.3106 - acc: 0.8615 - val_loss: 0.2529 - val_acc: 0.8930\n",
      "Epoch 18/30\n",
      " - 33s - loss: 0.3108 - acc: 0.8650 - val_loss: 0.2400 - val_acc: 0.8980\n",
      "Epoch 19/30\n",
      " - 33s - loss: 0.3081 - acc: 0.8730 - val_loss: 0.2453 - val_acc: 0.8940\n",
      "Epoch 20/30\n",
      " - 33s - loss: 0.3131 - acc: 0.8665 - val_loss: 0.2406 - val_acc: 0.9000\n",
      "Epoch 21/30\n",
      " - 33s - loss: 0.3004 - acc: 0.8680 - val_loss: 0.2471 - val_acc: 0.9000\n",
      "Epoch 22/30\n",
      " - 33s - loss: 0.2967 - acc: 0.8750 - val_loss: 0.2413 - val_acc: 0.9030\n",
      "Epoch 23/30\n",
      " - 33s - loss: 0.3117 - acc: 0.8695 - val_loss: 0.2451 - val_acc: 0.8950\n",
      "Epoch 24/30\n",
      " - 33s - loss: 0.2909 - acc: 0.8665 - val_loss: 0.2439 - val_acc: 0.8990\n",
      "Epoch 25/30\n",
      " - 33s - loss: 0.2868 - acc: 0.8790 - val_loss: 0.2370 - val_acc: 0.9080\n",
      "Epoch 26/30\n",
      " - 33s - loss: 0.2748 - acc: 0.8855 - val_loss: 0.2528 - val_acc: 0.9030\n",
      "Epoch 27/30\n",
      " - 33s - loss: 0.2951 - acc: 0.8730 - val_loss: 0.2381 - val_acc: 0.9040\n",
      "Epoch 28/30\n",
      " - 33s - loss: 0.2787 - acc: 0.8775 - val_loss: 0.2411 - val_acc: 0.9000\n",
      "Epoch 29/30\n",
      " - 34s - loss: 0.2901 - acc: 0.8810 - val_loss: 0.2424 - val_acc: 0.9020\n",
      "Epoch 30/30\n",
      " - 33s - loss: 0.2795 - acc: 0.8805 - val_loss: 0.2412 - val_acc: 0.9010\n"
     ]
    }
   ],
   "source": [
    "# 利用冻结的卷积基端到端地训练模型\n",
    "train_datagen = ImageDataGenerator(\n",
    "    rescale=1./255,\n",
    "    rotation_range=40,\n",
    "    width_shift_range=0.2,\n",
    "    height_shift_range=0.2,\n",
    "    shear_range=0.2,\n",
    "    zoom_range=0.2,\n",
    "    horizontal_flip=True,\n",
    "    fill_mode='nearest')\n",
    "\n",
    "test_datagen = ImageDataGenerator(rescale=1./255)  # 不能增强验证数据\n",
    "\n",
    "train_generator = train_datagen.flow_from_directory(\n",
    "    train_dir,\n",
    "    target_size=(150, 150),\n",
    "    batch_size=20,\n",
    "    class_mode='binary')\n",
    "\n",
    "validation_generator = test_datagen.flow_from_directory(\n",
    "    validation_dir,\n",
    "    target_size=(150, 150),\n",
    "    batch_size=20,\n",
    "    class_mode='binary')\n",
    "\n",
    "# Compile\n",
    "model.compile(optimizer=optimizers.RMSprop(lr=2e-5),\n",
    "              loss='binary_crossentropy',\n",
    "              metrics=['acc'])\n",
    "\n",
    "# Fit the model\n",
    "history = model.fit_generator(\n",
    "    train_generator,\n",
    "    steps_per_epoch=100,\n",
    "    epochs=30,\n",
    "    validation_data=validation_generator,\n",
    "    validation_steps=50,\n",
    "    verbose=2)"
   ]
  },
  {
   "cell_type": "code",
   "execution_count": 14,
   "metadata": {
    "ExecuteTime": {
     "end_time": "2018-09-05T02:44:18.304223Z",
     "start_time": "2018-09-05T02:44:17.950236Z"
    }
   },
   "outputs": [
    {
     "data": {
      "image/png": "[encoded data removed]",
      "text/plain": [
       "<Figure size 720x360 with 1 Axes>"
      ]
     },
     "metadata": {},
     "output_type": "display_data"
    },
    {
     "data": {
      "image/png": "[encoded data removed]",
      "text/plain": [
       "<Figure size 720x360 with 1 Axes>"
      ]
     },
     "metadata": {},
     "output_type": "display_data"
    }
   ],
   "source": [
    "acc = history.history['acc']\n",
    "val_acc = history.history['val_acc']\n",
    "loss = history.history['loss']\n",
    "val_loss = history.history['val_loss']\n",
    "\n",
    "epochs = range(1, len(acc) + 1)\n",
    "\n",
    "plt.figure(figsize=(10, 5))\n",
    "plt.plot(epochs, acc, 'bo', label='Training acc')\n",
    "plt.plot(epochs, val_acc, 'b', label='Validation acc')\n",
    "plt.title(\"Training and validation accuracy\", fontsize=14)\n",
    "plt.legend()\n",
    "\n",
    "plt.figure(figsize=(10, 5))\n",
    "plt.plot(epochs, loss, 'bo', label=\"Training loss\")\n",
    "plt.plot(epochs, val_loss, 'b', label=\"Validation loss\")\n",
    "plt.title(\"Training and validation loss\", fontsize=14)\n",
    "plt.legend()\n",
    "\n",
    "plt.show()"
   ]
  },
  {
   "cell_type": "markdown",
   "metadata": {},
   "source": [
    "## 模型微调"
   ]
  },
  {
   "cell_type": "markdown",
   "metadata": {},
   "source": [
    "与特征提取互为补充。对于用于特征提取的冻结的卷积基，微调是指将其顶部的几层解冻，并将这几层和新增加的部分联合训练。只是略微调整了所复用模型中更加抽象的表示，以便让这些表示和手头的任务更加相关。"
   ]
  },
  {
   "cell_type": "markdown",
   "metadata": {},
   "source": [
    "1. 在已训练好的基网络（base network）添加自定义网络；\n",
    "2. 冻结基网络；\n",
    "3. 训练所添加的部分；\n",
    "4. 解冻基网络的一些层；\n",
    "5. 联合训练解冻的这些层和添加的部分。"
   ]
  },
  {
   "cell_type": "code",
   "execution_count": 16,
   "metadata": {
    "ExecuteTime": {
     "end_time": "2018-09-05T02:51:46.343540Z",
     "start_time": "2018-09-05T02:51:46.317179Z"
    }
   },
   "outputs": [
    {
     "name": "stdout",
     "output_type": "stream",
     "text": [
      "_________________________________________________________________\n",
      "Layer (type)                 Output Shape              Param #   \n",
      "=================================================================\n",
      "input_1 (InputLayer)         (None, 150, 150, 3)       0         \n",
      "_________________________________________________________________\n",
      "block1_conv1 (Conv2D)        (None, 150, 150, 64)      1792      \n",
      "_________________________________________________________________\n",
      "block1_conv2 (Conv2D)        (None, 150, 150, 64)      36928     \n",
      "_________________________________________________________________\n",
      "block1_pool (MaxPooling2D)   (None, 75, 75, 64)        0         \n",
      "_________________________________________________________________\n",
      "block2_conv1 (Conv2D)        (None, 75, 75, 128)       73856     \n",
      "_________________________________________________________________\n",
      "block2_conv2 (Conv2D)        (None, 75, 75, 128)       147584    \n",
      "_________________________________________________________________\n",
      "block2_pool (MaxPooling2D)   (None, 37, 37, 128)       0         \n",
      "_________________________________________________________________\n",
      "block3_conv1 (Conv2D)        (None, 37, 37, 256)       295168    \n",
      "_________________________________________________________________\n",
      "block3_conv2 (Conv2D)        (None, 37, 37, 256)       590080    \n",
      "_________________________________________________________________\n",
      "block3_conv3 (Conv2D)        (None, 37, 37, 256)       590080    \n",
      "_________________________________________________________________\n",
      "block3_pool (MaxPooling2D)   (None, 18, 18, 256)       0         \n",
      "_________________________________________________________________\n",
      "block4_conv1 (Conv2D)        (None, 18, 18, 512)       1180160   \n",
      "_________________________________________________________________\n",
      "block4_conv2 (Conv2D)        (None, 18, 18, 512)       2359808   \n",
      "_________________________________________________________________\n",
      "block4_conv3 (Conv2D)        (None, 18, 18, 512)       2359808   \n",
      "_________________________________________________________________\n",
      "block4_pool (MaxPooling2D)   (None, 9, 9, 512)         0         \n",
      "_________________________________________________________________\n",
      "block5_conv1 (Conv2D)        (None, 9, 9, 512)         2359808   \n",
      "_________________________________________________________________\n",
      "block5_conv2 (Conv2D)        (None, 9, 9, 512)         2359808   \n",
      "_________________________________________________________________\n",
      "block5_conv3 (Conv2D)        (None, 9, 9, 512)         2359808   \n",
      "_________________________________________________________________\n",
      "block5_pool (MaxPooling2D)   (None, 4, 4, 512)         0         \n",
      "=================================================================\n",
      "Total params: 14,714,688\n",
      "Trainable params: 0\n",
      "Non-trainable params: 14,714,688\n",
      "_________________________________________________________________\n"
     ]
    }
   ],
   "source": [
    "conv_base.summary()"
   ]
  },
  {
   "cell_type": "markdown",
   "metadata": {},
   "source": [
    "微调最后三个卷积层，即block5_conv1、block5_conv2和block5_conv3。"
   ]
  },
  {
   "cell_type": "code",
   "execution_count": 19,
   "metadata": {
    "ExecuteTime": {
     "end_time": "2018-09-05T02:54:01.556258Z",
     "start_time": "2018-09-05T02:54:01.551878Z"
    }
   },
   "outputs": [
    {
     "data": {
      "text/plain": [
       "False"
      ]
     },
     "execution_count": 19,
     "metadata": {},
     "output_type": "execute_result"
    }
   ],
   "source": [
    "conv_base.trainable"
   ]
  },
  {
   "cell_type": "code",
   "execution_count": 20,
   "metadata": {
    "ExecuteTime": {
     "end_time": "2018-09-05T02:54:29.000681Z",
     "start_time": "2018-09-05T02:54:28.992599Z"
    }
   },
   "outputs": [
    {
     "data": {
      "text/plain": [
       "[<keras.engine.input_layer.InputLayer at 0x7f1b8ce019e8>,\n",
       " <keras.layers.convolutional.Conv2D at 0x7f1af505f390>,\n",
       " <keras.layers.convolutional.Conv2D at 0x7f1af507b908>,\n",
       " <keras.layers.pooling.MaxPooling2D at 0x7f1af50220f0>,\n",
       " <keras.layers.convolutional.Conv2D at 0x7f1af50227f0>,\n",
       " <keras.layers.convolutional.Conv2D at 0x7f1af4dde0b8>,\n",
       " <keras.layers.pooling.MaxPooling2D at 0x7f1af4df2160>,\n",
       " <keras.layers.convolutional.Conv2D at 0x7f1af4df25c0>,\n",
       " <keras.layers.convolutional.Conv2D at 0x7f1af4d8d4a8>,\n",
       " <keras.layers.convolutional.Conv2D at 0x7f1af4da30f0>,\n",
       " <keras.layers.pooling.MaxPooling2D at 0x7f1af4dbc470>,\n",
       " <keras.layers.convolutional.Conv2D at 0x7f1af4dbccf8>,\n",
       " <keras.layers.convolutional.Conv2D at 0x7f1af4d6c2b0>,\n",
       " <keras.layers.convolutional.Conv2D at 0x7f1af4d033c8>,\n",
       " <keras.layers.pooling.MaxPooling2D at 0x7f1af4d1a278>,\n",
       " <keras.layers.convolutional.Conv2D at 0x7f1af4d1ab38>,\n",
       " <keras.layers.convolutional.Conv2D at 0x7f1af4cc90b8>,\n",
       " <keras.layers.convolutional.Conv2D at 0x7f1af4ce2588>,\n",
       " <keras.layers.pooling.MaxPooling2D at 0x7f1af4cf9080>]"
      ]
     },
     "execution_count": 20,
     "metadata": {},
     "output_type": "execute_result"
    }
   ],
   "source": [
    "conv_base.layers"
   ]
  },
  {
   "cell_type": "code",
   "execution_count": 23,
   "metadata": {
    "ExecuteTime": {
     "end_time": "2018-09-05T02:55:10.470259Z",
     "start_time": "2018-09-05T02:55:10.463731Z"
    }
   },
   "outputs": [
    {
     "data": {
      "text/plain": [
       "'input_1'"
      ]
     },
     "execution_count": 23,
     "metadata": {},
     "output_type": "execute_result"
    }
   ],
   "source": [
    "conv_base.layers[0].name"
   ]
  },
  {
   "cell_type": "code",
   "execution_count": 24,
   "metadata": {
    "ExecuteTime": {
     "end_time": "2018-09-05T02:58:05.523472Z",
     "start_time": "2018-09-05T02:58:05.514545Z"
    },
    "collapsed": true
   },
   "outputs": [],
   "source": [
    "# 解冻直到某一层的所有层\n",
    "conv_base.trainable = True\n",
    "\n",
    "set_trainable = False\n",
    "for layer in conv_base.layers:\n",
    "    if layer.name == 'block5_conv1':\n",
    "        set_trainable = True\n",
    "    if set_trainable:\n",
    "        layer.trainable = True\n",
    "    else:\n",
    "        layer.trainable = False"
   ]
  },
  {
   "cell_type": "markdown",
   "metadata": {},
   "source": [
    "使用学习率非常小的RMSprop优化器来实现。选学习率非常小，是因为对于微调的三层表示，希望其变化范围不要太大。太大的权重更新可能会破坏这些表示。"
   ]
  },
  {
   "cell_type": "code",
   "execution_count": 25,
   "metadata": {
    "ExecuteTime": {
     "end_time": "2018-09-05T04:04:55.335405Z",
     "start_time": "2018-09-05T03:01:39.407776Z"
    }
   },
   "outputs": [
    {
     "name": "stdout",
     "output_type": "stream",
     "text": [
      "Epoch 1/100\n",
      " - 39s - loss: 0.2977 - acc: 0.8750 - val_loss: 0.2150 - val_acc: 0.9180\n",
      "Epoch 2/100\n",
      " - 38s - loss: 0.2664 - acc: 0.8920 - val_loss: 0.2079 - val_acc: 0.9160\n",
      "Epoch 3/100\n",
      " - 38s - loss: 0.2326 - acc: 0.8985 - val_loss: 0.2413 - val_acc: 0.9060\n",
      "Epoch 4/100\n",
      " - 38s - loss: 0.2268 - acc: 0.9075 - val_loss: 0.1917 - val_acc: 0.9220\n",
      "Epoch 5/100\n",
      " - 38s - loss: 0.1954 - acc: 0.9160 - val_loss: 0.1988 - val_acc: 0.9240\n",
      "Epoch 6/100\n",
      " - 38s - loss: 0.1939 - acc: 0.9180 - val_loss: 0.1785 - val_acc: 0.9310\n",
      "Epoch 7/100\n",
      " - 38s - loss: 0.1690 - acc: 0.9310 - val_loss: 0.1779 - val_acc: 0.9320\n",
      "Epoch 8/100\n",
      " - 38s - loss: 0.1910 - acc: 0.9215 - val_loss: 0.1876 - val_acc: 0.9270\n",
      "Epoch 9/100\n",
      " - 38s - loss: 0.1581 - acc: 0.9370 - val_loss: 0.1997 - val_acc: 0.9310\n",
      "Epoch 10/100\n",
      " - 38s - loss: 0.1591 - acc: 0.9330 - val_loss: 0.1861 - val_acc: 0.9350\n",
      "Epoch 11/100\n",
      " - 38s - loss: 0.1509 - acc: 0.9320 - val_loss: 0.2054 - val_acc: 0.9320\n",
      "Epoch 12/100\n",
      " - 38s - loss: 0.1297 - acc: 0.9525 - val_loss: 0.1721 - val_acc: 0.9390\n",
      "Epoch 13/100\n",
      " - 39s - loss: 0.1406 - acc: 0.9405 - val_loss: 0.1839 - val_acc: 0.9280\n",
      "Epoch 14/100\n",
      " - 38s - loss: 0.1135 - acc: 0.9590 - val_loss: 0.1785 - val_acc: 0.9390\n",
      "Epoch 15/100\n",
      " - 39s - loss: 0.1223 - acc: 0.9495 - val_loss: 0.2397 - val_acc: 0.9240\n",
      "Epoch 16/100\n",
      " - 38s - loss: 0.1071 - acc: 0.9600 - val_loss: 0.1944 - val_acc: 0.9290\n",
      "Epoch 17/100\n",
      " - 38s - loss: 0.1193 - acc: 0.9495 - val_loss: 0.1651 - val_acc: 0.9400\n",
      "Epoch 18/100\n",
      " - 40s - loss: 0.1038 - acc: 0.9625 - val_loss: 0.2682 - val_acc: 0.9110\n",
      "Epoch 19/100\n",
      " - 38s - loss: 0.1051 - acc: 0.9630 - val_loss: 0.2258 - val_acc: 0.9240\n",
      "Epoch 20/100\n",
      " - 38s - loss: 0.0891 - acc: 0.9655 - val_loss: 0.1934 - val_acc: 0.9310\n",
      "Epoch 21/100\n",
      " - 39s - loss: 0.0917 - acc: 0.9670 - val_loss: 0.1948 - val_acc: 0.9260\n",
      "Epoch 22/100\n",
      " - 39s - loss: 0.0877 - acc: 0.9685 - val_loss: 0.2005 - val_acc: 0.9350\n",
      "Epoch 23/100\n",
      " - 38s - loss: 0.0829 - acc: 0.9675 - val_loss: 0.1961 - val_acc: 0.9340\n",
      "Epoch 24/100\n",
      " - 38s - loss: 0.0807 - acc: 0.9690 - val_loss: 0.1857 - val_acc: 0.9310\n",
      "Epoch 25/100\n",
      " - 38s - loss: 0.0805 - acc: 0.9690 - val_loss: 0.2006 - val_acc: 0.9300\n",
      "Epoch 26/100\n",
      " - 38s - loss: 0.0780 - acc: 0.9705 - val_loss: 0.2042 - val_acc: 0.9320\n",
      "Epoch 27/100\n",
      " - 38s - loss: 0.0768 - acc: 0.9695 - val_loss: 0.2316 - val_acc: 0.9290\n",
      "Epoch 28/100\n",
      " - 38s - loss: 0.0776 - acc: 0.9705 - val_loss: 0.2031 - val_acc: 0.9310\n",
      "Epoch 29/100\n",
      " - 38s - loss: 0.0776 - acc: 0.9715 - val_loss: 0.2106 - val_acc: 0.9360\n",
      "Epoch 30/100\n",
      " - 38s - loss: 0.0628 - acc: 0.9805 - val_loss: 0.2047 - val_acc: 0.9380\n",
      "Epoch 31/100\n",
      " - 38s - loss: 0.0711 - acc: 0.9740 - val_loss: 0.1884 - val_acc: 0.9410\n",
      "Epoch 32/100\n",
      " - 39s - loss: 0.0609 - acc: 0.9770 - val_loss: 0.1846 - val_acc: 0.9360\n",
      "Epoch 33/100\n",
      " - 38s - loss: 0.0562 - acc: 0.9775 - val_loss: 0.1953 - val_acc: 0.9370\n",
      "Epoch 34/100\n",
      " - 38s - loss: 0.0634 - acc: 0.9750 - val_loss: 0.2392 - val_acc: 0.9340\n",
      "Epoch 35/100\n",
      " - 38s - loss: 0.0615 - acc: 0.9770 - val_loss: 0.2037 - val_acc: 0.9400\n",
      "Epoch 36/100\n",
      " - 38s - loss: 0.0656 - acc: 0.9765 - val_loss: 0.1965 - val_acc: 0.9420\n",
      "Epoch 37/100\n",
      " - 38s - loss: 0.0543 - acc: 0.9810 - val_loss: 0.1945 - val_acc: 0.9370\n",
      "Epoch 38/100\n",
      " - 38s - loss: 0.0617 - acc: 0.9780 - val_loss: 0.1966 - val_acc: 0.9380\n",
      "Epoch 39/100\n",
      " - 38s - loss: 0.0586 - acc: 0.9795 - val_loss: 0.2021 - val_acc: 0.9330\n",
      "Epoch 40/100\n",
      " - 38s - loss: 0.0474 - acc: 0.9825 - val_loss: 0.1969 - val_acc: 0.9400\n",
      "Epoch 41/100\n",
      " - 38s - loss: 0.0552 - acc: 0.9800 - val_loss: 0.2081 - val_acc: 0.9360\n",
      "Epoch 42/100\n",
      " - 38s - loss: 0.0511 - acc: 0.9820 - val_loss: 0.1930 - val_acc: 0.9310\n",
      "Epoch 43/100\n",
      " - 38s - loss: 0.0499 - acc: 0.9775 - val_loss: 0.2013 - val_acc: 0.9420\n",
      "Epoch 44/100\n",
      " - 38s - loss: 0.0401 - acc: 0.9875 - val_loss: 0.2163 - val_acc: 0.9320\n",
      "Epoch 45/100\n",
      " - 38s - loss: 0.0437 - acc: 0.9815 - val_loss: 0.2151 - val_acc: 0.9420\n",
      "Epoch 46/100\n",
      " - 38s - loss: 0.0453 - acc: 0.9845 - val_loss: 0.2302 - val_acc: 0.9300\n",
      "Epoch 47/100\n",
      " - 38s - loss: 0.0453 - acc: 0.9845 - val_loss: 0.2222 - val_acc: 0.9380\n",
      "Epoch 48/100\n",
      " - 38s - loss: 0.0367 - acc: 0.9875 - val_loss: 0.2301 - val_acc: 0.9370\n",
      "Epoch 49/100\n",
      " - 38s - loss: 0.0415 - acc: 0.9850 - val_loss: 0.2194 - val_acc: 0.9420\n",
      "Epoch 50/100\n",
      " - 38s - loss: 0.0328 - acc: 0.9900 - val_loss: 0.2132 - val_acc: 0.9350\n",
      "Epoch 51/100\n",
      " - 38s - loss: 0.0419 - acc: 0.9860 - val_loss: 0.1895 - val_acc: 0.9400\n",
      "Epoch 52/100\n",
      " - 38s - loss: 0.0349 - acc: 0.9830 - val_loss: 0.3063 - val_acc: 0.9210\n",
      "Epoch 53/100\n",
      " - 38s - loss: 0.0523 - acc: 0.9800 - val_loss: 0.2125 - val_acc: 0.9400\n",
      "Epoch 54/100\n",
      " - 38s - loss: 0.0417 - acc: 0.9860 - val_loss: 0.2078 - val_acc: 0.9350\n",
      "Epoch 55/100\n",
      " - 38s - loss: 0.0330 - acc: 0.9885 - val_loss: 0.2130 - val_acc: 0.9480\n",
      "Epoch 56/100\n",
      " - 38s - loss: 0.0357 - acc: 0.9865 - val_loss: 0.1999 - val_acc: 0.9340\n",
      "Epoch 57/100\n",
      " - 38s - loss: 0.0334 - acc: 0.9890 - val_loss: 0.1952 - val_acc: 0.9440\n",
      "Epoch 58/100\n",
      " - 38s - loss: 0.0252 - acc: 0.9910 - val_loss: 0.2192 - val_acc: 0.9350\n",
      "Epoch 59/100\n",
      " - 38s - loss: 0.0299 - acc: 0.9885 - val_loss: 0.2269 - val_acc: 0.9360\n",
      "Epoch 60/100\n",
      " - 38s - loss: 0.0274 - acc: 0.9900 - val_loss: 0.2191 - val_acc: 0.9440\n",
      "Epoch 61/100\n",
      " - 38s - loss: 0.0296 - acc: 0.9885 - val_loss: 0.2435 - val_acc: 0.9350\n",
      "Epoch 62/100\n",
      " - 38s - loss: 0.0174 - acc: 0.9940 - val_loss: 0.2219 - val_acc: 0.9330\n",
      "Epoch 63/100\n",
      " - 38s - loss: 0.0332 - acc: 0.9880 - val_loss: 0.2476 - val_acc: 0.9420\n",
      "Epoch 64/100\n",
      " - 38s - loss: 0.0318 - acc: 0.9890 - val_loss: 0.2210 - val_acc: 0.9400\n",
      "Epoch 65/100\n",
      " - 38s - loss: 0.0261 - acc: 0.9910 - val_loss: 0.2325 - val_acc: 0.9390\n",
      "Epoch 66/100\n",
      " - 38s - loss: 0.0267 - acc: 0.9900 - val_loss: 0.2458 - val_acc: 0.9370\n",
      "Epoch 67/100\n",
      " - 38s - loss: 0.0298 - acc: 0.9875 - val_loss: 0.2464 - val_acc: 0.9360\n",
      "Epoch 68/100\n",
      " - 38s - loss: 0.0231 - acc: 0.9925 - val_loss: 0.2517 - val_acc: 0.9390\n",
      "Epoch 69/100\n",
      " - 38s - loss: 0.0262 - acc: 0.9915 - val_loss: 0.2755 - val_acc: 0.9350\n",
      "Epoch 70/100\n",
      " - 38s - loss: 0.0244 - acc: 0.9935 - val_loss: 0.2272 - val_acc: 0.9460\n",
      "Epoch 71/100\n",
      " - 38s - loss: 0.0284 - acc: 0.9890 - val_loss: 0.3458 - val_acc: 0.9280\n",
      "Epoch 72/100\n",
      " - 38s - loss: 0.0350 - acc: 0.9880 - val_loss: 0.2159 - val_acc: 0.9380\n",
      "Epoch 73/100\n",
      " - 38s - loss: 0.0284 - acc: 0.9900 - val_loss: 0.2076 - val_acc: 0.9460\n",
      "Epoch 74/100\n",
      " - 38s - loss: 0.0185 - acc: 0.9935 - val_loss: 0.2406 - val_acc: 0.9410\n",
      "Epoch 75/100\n",
      " - 38s - loss: 0.0237 - acc: 0.9925 - val_loss: 0.2858 - val_acc: 0.9380\n",
      "Epoch 76/100\n",
      " - 38s - loss: 0.0250 - acc: 0.9900 - val_loss: 0.3696 - val_acc: 0.9300\n",
      "Epoch 77/100\n",
      " - 38s - loss: 0.0281 - acc: 0.9895 - val_loss: 0.1974 - val_acc: 0.9420\n",
      "Epoch 78/100\n",
      " - 38s - loss: 0.0245 - acc: 0.9930 - val_loss: 0.2229 - val_acc: 0.9410\n",
      "Epoch 79/100\n",
      " - 38s - loss: 0.0234 - acc: 0.9915 - val_loss: 0.2681 - val_acc: 0.9330\n",
      "Epoch 80/100\n",
      " - 38s - loss: 0.0177 - acc: 0.9940 - val_loss: 0.2475 - val_acc: 0.9420\n",
      "Epoch 81/100\n",
      " - 38s - loss: 0.0279 - acc: 0.9905 - val_loss: 0.2600 - val_acc: 0.9430\n",
      "Epoch 82/100\n",
      " - 38s - loss: 0.0164 - acc: 0.9940 - val_loss: 0.3115 - val_acc: 0.9320\n",
      "Epoch 83/100\n",
      " - 38s - loss: 0.0218 - acc: 0.9925 - val_loss: 0.2592 - val_acc: 0.9390\n",
      "Epoch 84/100\n",
      " - 38s - loss: 0.0244 - acc: 0.9910 - val_loss: 0.2500 - val_acc: 0.9410\n",
      "Epoch 85/100\n",
      " - 38s - loss: 0.0255 - acc: 0.9915 - val_loss: 0.2379 - val_acc: 0.9340\n",
      "Epoch 86/100\n",
      " - 38s - loss: 0.0185 - acc: 0.9925 - val_loss: 0.2856 - val_acc: 0.9380\n",
      "Epoch 87/100\n",
      " - 38s - loss: 0.0178 - acc: 0.9920 - val_loss: 0.2686 - val_acc: 0.9350\n",
      "Epoch 88/100\n",
      " - 38s - loss: 0.0170 - acc: 0.9930 - val_loss: 0.3004 - val_acc: 0.9320\n",
      "Epoch 89/100\n",
      " - 38s - loss: 0.0222 - acc: 0.9925 - val_loss: 0.2634 - val_acc: 0.9380\n",
      "Epoch 90/100\n",
      " - 38s - loss: 0.0222 - acc: 0.9910 - val_loss: 0.2379 - val_acc: 0.9410\n",
      "Epoch 91/100\n",
      " - 38s - loss: 0.0187 - acc: 0.9935 - val_loss: 0.2651 - val_acc: 0.9420\n",
      "Epoch 92/100\n",
      " - 38s - loss: 0.0198 - acc: 0.9935 - val_loss: 0.2779 - val_acc: 0.9400\n",
      "Epoch 93/100\n",
      " - 38s - loss: 0.0239 - acc: 0.9910 - val_loss: 0.2639 - val_acc: 0.9390\n",
      "Epoch 94/100\n",
      " - 38s - loss: 0.0159 - acc: 0.9940 - val_loss: 0.2436 - val_acc: 0.9470\n",
      "Epoch 95/100\n",
      " - 38s - loss: 0.0258 - acc: 0.9920 - val_loss: 0.2644 - val_acc: 0.9400\n",
      "Epoch 96/100\n",
      " - 38s - loss: 0.0227 - acc: 0.9930 - val_loss: 0.2550 - val_acc: 0.9450\n"
     ]
    },
    {
     "name": "stdout",
     "output_type": "stream",
     "text": [
      "Epoch 97/100\n",
      " - 38s - loss: 0.0228 - acc: 0.9915 - val_loss: 0.2307 - val_acc: 0.9410\n",
      "Epoch 98/100\n",
      " - 38s - loss: 0.0251 - acc: 0.9920 - val_loss: 0.2532 - val_acc: 0.9360\n",
      "Epoch 99/100\n",
      " - 38s - loss: 0.0132 - acc: 0.9950 - val_loss: 0.2960 - val_acc: 0.9360\n",
      "Epoch 100/100\n",
      " - 38s - loss: 0.0197 - acc: 0.9925 - val_loss: 0.3617 - val_acc: 0.9260\n"
     ]
    }
   ],
   "source": [
    "model.compile(optimizer=optimizers.RMSprop(lr=1e-5),\n",
    "              loss='binary_crossentropy',\n",
    "              metrics=['acc'])\n",
    "\n",
    "history = model.fit_generator(\n",
    "    train_generator,\n",
    "    steps_per_epoch=100,\n",
    "    epochs=100,\n",
    "    validation_data=validation_generator,\n",
    "    validation_steps=50,\n",
    "    verbose=2)"
   ]
  },
  {
   "cell_type": "code",
   "execution_count": 26,
   "metadata": {
    "ExecuteTime": {
     "end_time": "2018-09-05T04:39:05.730904Z",
     "start_time": "2018-09-05T04:39:05.373780Z"
    }
   },
   "outputs": [
    {
     "data": {
      "image/png": "[encoded data removed]",
      "text/plain": [
       "<Figure size 720x360 with 1 Axes>"
      ]
     },
     "metadata": {},
     "output_type": "display_data"
    },
    {
     "data": {
      "image/png": "[encoded data removed]",
      "text/plain": [
       "<Figure size 720x360 with 1 Axes>"
      ]
     },
     "metadata": {},
     "output_type": "display_data"
    }
   ],
   "source": [
    "acc = history.history['acc']\n",
    "val_acc = history.history['val_acc']\n",
    "loss = history.history['loss']\n",
    "val_loss = history.history['val_loss']\n",
    "\n",
    "epochs = range(1, len(acc) + 1)\n",
    "\n",
    "plt.figure(figsize=(10, 5))\n",
    "plt.plot(epochs, acc, 'bo', label='Training acc')\n",
    "plt.plot(epochs, val_acc, 'b', label='Validation acc')\n",
    "plt.title(\"Training and validation accuracy\", fontsize=14)\n",
    "plt.legend()\n",
    "\n",
    "plt.figure(figsize=(10, 5))\n",
    "plt.plot(epochs, loss, 'bo', label=\"Training loss\")\n",
    "plt.plot(epochs, val_loss, 'b', label=\"Validation loss\")\n",
    "plt.title(\"Training and validation loss\", fontsize=14)\n",
    "plt.legend()\n",
    "\n",
    "plt.show()"
   ]
  },
  {
   "cell_type": "markdown",
   "metadata": {},
   "source": [
    "这些曲线看起来包含噪声。为使图像更具有可读性，可以将每个损失和精度都替换为指数移动平局值，从而让曲线变得更平滑。"
   ]
  },
  {
   "cell_type": "code",
   "execution_count": 27,
   "metadata": {
    "ExecuteTime": {
     "end_time": "2018-09-05T04:42:55.349720Z",
     "start_time": "2018-09-05T04:42:55.340535Z"
    },
    "collapsed": true
   },
   "outputs": [],
   "source": [
    "def smooth_curve(points, factor=0.8):\n",
    "    smoothed_points = []\n",
    "    for point in points:\n",
    "        if smoothed_points:\n",
    "            previous = smoothed_points[-1]\n",
    "            smoothed_points.append(previous * 0.8 + point * (1 - factor))\n",
    "        else:\n",
    "            smoothed_points.append(point)\n",
    "    return smoothed_points"
   ]
  },
  {
   "cell_type": "code",
   "execution_count": 30,
   "metadata": {
    "ExecuteTime": {
     "end_time": "2018-09-05T04:44:31.794325Z",
     "start_time": "2018-09-05T04:44:31.434837Z"
    }
   },
   "outputs": [
    {
     "data": {
      "image/png": "[encoded data removed]",
      "text/plain": [
       "<Figure size 720x360 with 1 Axes>"
      ]
     },
     "metadata": {},
     "output_type": "display_data"
    },
    {
     "data": {
      "image/png": "[encoded data removed]",
      "text/plain": [
       "<Figure size 720x360 with 1 Axes>"
      ]
     },
     "metadata": {},
     "output_type": "display_data"
    }
   ],
   "source": [
    "acc = history.history['acc']\n",
    "val_acc = history.history['val_acc']\n",
    "loss = history.history['loss']\n",
    "val_loss = history.history['val_loss']\n",
    "\n",
    "epochs = range(1, len(acc) + 1)\n",
    "\n",
    "plt.figure(figsize=(10, 5))\n",
    "plt.plot(epochs, smooth_curve(acc), 'bo', label='smoothed training acc')\n",
    "plt.plot(epochs, smooth_curve(val_acc), 'b', label='smoothed validation acc')\n",
    "plt.title(\"Smoothed training and validation accuracy\", fontsize=14)\n",
    "plt.legend()\n",
    "\n",
    "plt.figure(figsize=(10, 5))\n",
    "plt.plot(epochs, smooth_curve(loss), 'bo', label=\"smoothed training loss\")\n",
    "plt.plot(epochs, smooth_curve(val_loss), 'b', label=\"smoothed validation loss\")\n",
    "plt.title(\"Smoothed training and validation loss\", fontsize=14)\n",
    "plt.legend()\n",
    "\n",
    "plt.show()"
   ]
  },
  {
   "cell_type": "code",
   "execution_count": 31,
   "metadata": {
    "ExecuteTime": {
     "end_time": "2018-09-05T04:46:50.444114Z",
     "start_time": "2018-09-05T04:46:39.296822Z"
    }
   },
   "outputs": [
    {
     "name": "stdout",
     "output_type": "stream",
     "text": [
      "Found 1000 images belonging to 2 classes.\n",
      "test acc: 0.9219999897480011\n"
     ]
    }
   ],
   "source": [
    "test_generator = test_datagen.flow_from_directory(\n",
    "    test_dir,\n",
    "    target_size=(150, 150),\n",
    "    batch_size=20,\n",
    "    class_mode='binary')\n",
    "\n",
    "test_loss, test_acc = model.evaluate_generator(test_generator, steps=50)\n",
    "print(\"test acc:\", test_acc)"
   ]
  }
 ],
 "metadata": {
  "kernelspec": {
   "display_name": "Python [conda env:tf]",
   "language": "python",
   "name": "conda-env-tf-py"
  },
  "language_info": {
   "codemirror_mode": {
    "name": "ipython",
    "version": 3
   },
   "file_extension": ".py",
   "mimetype": "text/x-python",
   "name": "python",
   "nbconvert_exporter": "python",
   "pygments_lexer": "ipython3",
   "version": "3.6.2"
  },
  "notify_time": "5",
  "toc": {
   "base_numbering": 1,
   "nav_menu": {},
   "number_sections": true,
   "sideBar": true,
   "skip_h1_title": false,
   "title_cell": "Table of Contents",
   "title_sidebar": "Contents",
   "toc_cell": false,
   "toc_position": {},
   "toc_section_display": true,
   "toc_window_display": false
  },
  "varInspector": {
   "cols": {
    "lenName": 16,
    "lenType": 16,
    "lenVar": 40
   },
   "kernels_config": {
    "python": {
     "delete_cmd_postfix": "",
     "delete_cmd_prefix": "del ",
     "library": "var_list.py",
     "varRefreshCmd": "print(var_dic_list())"
    },
    "r": {
     "delete_cmd_postfix": ") ",
     "delete_cmd_prefix": "rm(",
     "library": "var_list.r",
     "varRefreshCmd": "cat(var_dic_list()) "
    }
   },
   "types_to_exclude": [
    "module",
    "function",
    "builtin_function_or_method",
    "instance",
    "_Feature"
   ],
   "window_display": false
  }
 },
 "nbformat": 4,
 "nbformat_minor": 2
}
