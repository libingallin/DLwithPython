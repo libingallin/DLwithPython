{
 "cells": [
  {
   "cell_type": "markdown",
   "metadata": {},
   "source": [
    "## 用卷积神经网络处理序列"
   ]
  },
  {
   "cell_type": "code",
   "execution_count": 1,
   "metadata": {
    "ExecuteTime": {
     "end_time": "2018-09-18T06:47:39.289806Z",
     "start_time": "2018-09-18T06:47:38.891471Z"
    },
    "collapsed": true
   },
   "outputs": [],
   "source": [
    "import os\n",
    "import numpy as np\n",
    "\n",
    "# To plot pretty figures\n",
    "%matplotlib inline\n",
    "import matplotlib\n",
    "import matplotlib.pyplot as plt\n",
    "plt.rcParams['axes.labelsize'] = 14\n",
    "plt.rcParams['xtick.labelsize'] = 12\n",
    "plt.rcParams['ytick.labelsize'] = 12"
   ]
  },
  {
   "cell_type": "markdown",
   "metadata": {},
   "source": [
    "### 一维卷积神经网络用于IMDB情感分类任务"
   ]
  },
  {
   "cell_type": "markdown",
   "metadata": {},
   "source": [
    "+ 数据预处理："
   ]
  },
  {
   "cell_type": "code",
   "execution_count": 2,
   "metadata": {
    "ExecuteTime": {
     "end_time": "2018-09-18T06:47:46.212058Z",
     "start_time": "2018-09-18T06:47:39.292323Z"
    }
   },
   "outputs": [
    {
     "name": "stderr",
     "output_type": "stream",
     "text": [
      "Using TensorFlow backend.\n"
     ]
    },
    {
     "name": "stdout",
     "output_type": "stream",
     "text": [
      "25000 train sequences\n",
      "25000 test sequences\n",
      "x_train shape: (25000, 500)\n",
      "x_test shape: (25000, 500)\n"
     ]
    }
   ],
   "source": [
    "from keras.datasets import imdb\n",
    "from keras.preprocessing import sequence\n",
    "\n",
    "max_features = 10000\n",
    "max_len = 500\n",
    "\n",
    "(x_train, y_train), (x_test, y_test) = imdb.load_data(num_words=max_features)\n",
    "print(len(x_train), 'train sequences')\n",
    "print(len(x_test), 'test sequences')\n",
    "\n",
    "x_train = sequence.pad_sequences(x_train, maxlen=max_len)\n",
    "x_test = sequence.pad_sequences(x_test, maxlen=max_len)\n",
    "print('x_train shape:', x_train.shape)\n",
    "print('x_test shape:', x_test.shape)"
   ]
  },
  {
   "cell_type": "markdown",
   "metadata": {},
   "source": [
    "+ 训练一个简单的一维卷积神经网络："
   ]
  },
  {
   "cell_type": "code",
   "execution_count": 3,
   "metadata": {
    "ExecuteTime": {
     "end_time": "2018-09-18T06:47:46.334208Z",
     "start_time": "2018-09-18T06:47:46.213664Z"
    }
   },
   "outputs": [
    {
     "name": "stdout",
     "output_type": "stream",
     "text": [
      "_________________________________________________________________\n",
      "Layer (type)                 Output Shape              Param #   \n",
      "=================================================================\n",
      "embedding_1 (Embedding)      (None, 500, 128)          1280000   \n",
      "_________________________________________________________________\n",
      "conv1d_1 (Conv1D)            (None, 494, 32)           28704     \n",
      "_________________________________________________________________\n",
      "max_pooling1d_1 (MaxPooling1 (None, 98, 32)            0         \n",
      "_________________________________________________________________\n",
      "conv1d_2 (Conv1D)            (None, 92, 32)            7200      \n",
      "_________________________________________________________________\n",
      "global_max_pooling1d_1 (Glob (None, 32)                0         \n",
      "_________________________________________________________________\n",
      "dense_1 (Dense)              (None, 1)                 33        \n",
      "=================================================================\n",
      "Total params: 1,315,937\n",
      "Trainable params: 1,315,937\n",
      "Non-trainable params: 0\n",
      "_________________________________________________________________\n"
     ]
    }
   ],
   "source": [
    "from keras.models import Sequential\n",
    "from keras import layers\n",
    "from keras.optimizers import RMSprop\n",
    "\n",
    "model = Sequential()\n",
    "model.add(layers.Embedding(max_features, 128, input_length=max_len))\n",
    "model.add(layers.Conv1D(32, 7, activation='relu'))\n",
    "model.add(layers.MaxPool1D(5))\n",
    "model.add(layers.Conv1D(32, 7, activation='relu'))\n",
    "model.add(layers.GlobalMaxPool1D())\n",
    "model.add(layers.Dense(1))\n",
    "\n",
    "model.summary()"
   ]
  },
  {
   "cell_type": "code",
   "execution_count": 4,
   "metadata": {
    "ExecuteTime": {
     "end_time": "2018-09-18T06:48:42.880629Z",
     "start_time": "2018-09-18T06:47:46.336532Z"
    }
   },
   "outputs": [
    {
     "name": "stdout",
     "output_type": "stream",
     "text": [
      "Train on 20000 samples, validate on 5000 samples\n",
      "Epoch 1/10\n",
      "20000/20000 [==============================] - 11s 554us/step - loss: 0.8337 - acc: 0.5089 - val_loss: 0.6875 - val_acc: 0.5634\n",
      "Epoch 2/10\n",
      "20000/20000 [==============================] - 5s 250us/step - loss: 0.6700 - acc: 0.6402 - val_loss: 0.6642 - val_acc: 0.6588\n",
      "Epoch 3/10\n",
      "20000/20000 [==============================] - 5s 250us/step - loss: 0.6235 - acc: 0.7556 - val_loss: 0.6078 - val_acc: 0.7444\n",
      "Epoch 4/10\n",
      "20000/20000 [==============================] - 5s 251us/step - loss: 0.5256 - acc: 0.8097 - val_loss: 0.4850 - val_acc: 0.8060\n",
      "Epoch 5/10\n",
      "20000/20000 [==============================] - 5s 250us/step - loss: 0.4134 - acc: 0.8482 - val_loss: 0.4342 - val_acc: 0.8288\n",
      "Epoch 6/10\n",
      "20000/20000 [==============================] - 5s 250us/step - loss: 0.3493 - acc: 0.8675 - val_loss: 0.4148 - val_acc: 0.8350\n",
      "Epoch 7/10\n",
      "20000/20000 [==============================] - 5s 250us/step - loss: 0.3083 - acc: 0.8646 - val_loss: 0.4482 - val_acc: 0.8200\n",
      "Epoch 8/10\n",
      "20000/20000 [==============================] - 5s 250us/step - loss: 0.2801 - acc: 0.8538 - val_loss: 0.4306 - val_acc: 0.8034\n",
      "Epoch 9/10\n",
      "20000/20000 [==============================] - 5s 250us/step - loss: 0.2557 - acc: 0.8319 - val_loss: 0.4510 - val_acc: 0.7892\n",
      "Epoch 10/10\n",
      "20000/20000 [==============================] - 5s 251us/step - loss: 0.2317 - acc: 0.8065 - val_loss: 0.5124 - val_acc: 0.7470\n"
     ]
    }
   ],
   "source": [
    "model.compile(optimizer=RMSprop(lr=1e-4),\n",
    "              loss='binary_crossentropy',\n",
    "              metrics=['acc'])\n",
    "history = model.fit(x_train, y_train,\n",
    "                    epochs=10,\n",
    "                    batch_size=128,\n",
    "                    validation_split=0.2)"
   ]
  },
  {
   "cell_type": "code",
   "execution_count": 5,
   "metadata": {
    "ExecuteTime": {
     "end_time": "2018-09-18T06:48:43.318090Z",
     "start_time": "2018-09-18T06:48:42.882879Z"
    }
   },
   "outputs": [
    {
     "data": {
      "image/png": "[encoded data removed]",
      "text/plain": [
       "<Figure size 720x864 with 2 Axes>"
      ]
     },
     "metadata": {},
     "output_type": "display_data"
    }
   ],
   "source": [
    "acc = history.history['acc']\n",
    "loss = history.history['loss']\n",
    "val_acc = history.history['val_acc']\n",
    "val_loss = history.history['val_loss']\n",
    "\n",
    "epochs = range(1, len(acc) + 1)\n",
    "\n",
    "fig, axes = plt.subplots(2, 1, figsize=(10, 12))\n",
    "axes[0].plot(epochs, loss, 'bo', label='Training loss')\n",
    "axes[0].plot(epochs, val_loss, 'b', label='Validation loss')\n",
    "axes[0].set_title(\"Training and validation loss\", fontsize=14)\n",
    "axes[0].legend()\n",
    "\n",
    "axes[1].plot(epochs, acc, 'bo', label='Training acc')\n",
    "axes[1].plot(epochs, val_acc, 'b', label='Validation acc')\n",
    "axes[1].set_title(\"Training and validation acc\", fontsize=14)\n",
    "axes[1].legend()\n",
    "\n",
    "plt.show()"
   ]
  },
  {
   "cell_type": "markdown",
   "metadata": {},
   "source": [
    "比LSTM精度略低，但速度很快。现在可以使用正确的轮数（6轮）重新训练这个模型，然后在测试集上运行。"
   ]
  },
  {
   "cell_type": "markdown",
   "metadata": {},
   "source": [
    "### 结合CNN和RNN来处理长序列"
   ]
  },
  {
   "cell_type": "markdown",
   "metadata": {},
   "source": [
    "一维卷积神经网络分别处理每个输入序列段，所以它对时间步的顺序不敏感。、\n",
    "\n",
    "在温度预测问题（这个问题中顺序敏感性对良好的预测结果非常关键）上使用一维卷积神经网络。"
   ]
  },
  {
   "cell_type": "code",
   "execution_count": 6,
   "metadata": {
    "ExecuteTime": {
     "end_time": "2018-09-18T06:48:43.500501Z",
     "start_time": "2018-09-18T06:48:43.319619Z"
    },
    "collapsed": true
   },
   "outputs": [],
   "source": [
    "data_dir = '/home/bingli/Downloads/jena_climate'\n",
    "fname = os.path.join(data_dir, 'jena_climate_2009_2016.csv')\n",
    "\n",
    "f = open(fname)\n",
    "data = f.read()\n",
    "f.close()"
   ]
  },
  {
   "cell_type": "code",
   "execution_count": 7,
   "metadata": {
    "ExecuteTime": {
     "end_time": "2018-09-18T06:48:45.847336Z",
     "start_time": "2018-09-18T06:48:43.502544Z"
    },
    "collapsed": true
   },
   "outputs": [],
   "source": [
    "lines = data.split('\\n')\n",
    "headers = lines[0].split(',')\n",
    "lines = lines[1:]\n",
    "\n",
    "float_data = np.zeros((len(lines), len(headers) - 1))\n",
    "for i, line in enumerate(lines):\n",
    "    values = [float(x) for x in line.split(',')[1:]]\n",
    "    float_data[i, :] = values"
   ]
  },
  {
   "cell_type": "code",
   "execution_count": 8,
   "metadata": {
    "ExecuteTime": {
     "end_time": "2018-09-18T06:48:45.854104Z",
     "start_time": "2018-09-18T06:48:45.848964Z"
    }
   },
   "outputs": [
    {
     "data": {
      "text/plain": [
       "(420551, 14)"
      ]
     },
     "execution_count": 8,
     "metadata": {},
     "output_type": "execute_result"
    }
   ],
   "source": [
    "float_data.shape"
   ]
  },
  {
   "cell_type": "code",
   "execution_count": 9,
   "metadata": {
    "ExecuteTime": {
     "end_time": "2018-09-18T06:48:45.924292Z",
     "start_time": "2018-09-18T06:48:45.856985Z"
    },
    "collapsed": true
   },
   "outputs": [],
   "source": [
    "# standardization\n",
    "mean = float_data[:200000].mean(axis=0)\n",
    "float_data -= mean\n",
    "std = float_data[:200000].std(axis=0)\n",
    "float_data /= std"
   ]
  },
  {
   "cell_type": "code",
   "execution_count": 10,
   "metadata": {
    "ExecuteTime": {
     "end_time": "2018-09-18T06:48:46.040594Z",
     "start_time": "2018-09-18T06:48:45.925780Z"
    },
    "collapsed": true
   },
   "outputs": [],
   "source": [
    "# 生成时间序列样本及其目标的生成器\n",
    "def generator(data, lookback, delay, min_index, max_index,\n",
    "              shuffle=False, batch_size=128, step=6):\n",
    "    \"\"\"生成一个元组(samples, targets)，其中samples是输入数据的一个批量，targets是对应\n",
    "    的目标温度数据。\n",
    "    data: 浮点数据组成的原始数组\n",
    "    lookback：输入数据应该包括过去多少个时间步\n",
    "    delay：目标应该在未来多少个时间步之后\n",
    "    min_index和max_index：data数组中的索引，用于界定需要抽取哪些时间步\n",
    "    shuffle：打乱样本，还是按顺序抽取样本\n",
    "    step：数据采样的周期（单位：时间步）\n",
    "    batch_size：每个批量的样本数\"\"\"\n",
    "    if max_index is None:\n",
    "        max_index = len(data) - delay - 1\n",
    "    i = min_index + lookback\n",
    "\n",
    "    while 1:\n",
    "        if shuffle:\n",
    "            rows = np.random.randint(\n",
    "                min_index+lookback, max_index, size=batch_size)\n",
    "        else:\n",
    "            if i + batch_size >= max_index:\n",
    "                i = min_index + lookback\n",
    "            rows = np.arange(i, min(i + batch_size, max_index))\n",
    "            i += len(rows)\n",
    "\n",
    "        samples = np.zeros((len(rows), lookback // step, data.shape[-1]))\n",
    "        targets = np.zeros((len(rows),))\n",
    "\n",
    "        for j, row in enumerate(rows):\n",
    "            indics = range(rows[j] - lookback, rows[j], step)\n",
    "            samples[j] = data[indics]\n",
    "            targets[j] = data[rows[j] + delay][1]\n",
    "        yield samples, targets\n",
    "\n",
    "\n",
    "lookback = 1440\n",
    "step = 6\n",
    "delay = 144\n",
    "batch_size = 128\n",
    "\n",
    "train_gen = generator(float_data, lookback=lookback, delay=delay,\n",
    "                      min_index=0, max_index=200000, shuffle=True,\n",
    "                      step=step, batch_size=batch_size)\n",
    "\n",
    "val_gen = generator(float_data, lookback=lookback, delay=delay,\n",
    "                    min_index=200001, max_index=300000,\n",
    "                    step=step, batch_size=batch_size)\n",
    "\n",
    "test_gen = generator(float_data, lookback=lookback, delay=delay,\n",
    "                     min_index=300001, max_index=None,\n",
    "                     step=step, batch_size=batch_size)\n",
    "\n",
    "# This is how many steps to draw from `val_gen`\n",
    "# in order to see the whole validation set:\n",
    "val_steps = (300000 - 200001 - lookback) // batch_size\n",
    "\n",
    "# This is how many steps to draw from `test_gen`\n",
    "# in order to see the whole test set:\n",
    "test_steps = (len(float_data) - 300001 - lookback) // batch_size"
   ]
  },
  {
   "cell_type": "code",
   "execution_count": 11,
   "metadata": {
    "ExecuteTime": {
     "end_time": "2018-09-18T06:52:54.976646Z",
     "start_time": "2018-09-18T06:48:46.042075Z"
    }
   },
   "outputs": [
    {
     "name": "stdout",
     "output_type": "stream",
     "text": [
      "Epoch 1/20\n",
      "500/500 [==============================] - 11s 23ms/step - loss: 0.4208 - val_loss: 0.4408\n",
      "Epoch 2/20\n",
      "500/500 [==============================] - 10s 20ms/step - loss: 0.3650 - val_loss: 0.4487\n",
      "Epoch 3/20\n",
      "500/500 [==============================] - 11s 21ms/step - loss: 0.3407 - val_loss: 0.4639\n",
      "Epoch 4/20\n",
      "500/500 [==============================] - 10s 21ms/step - loss: 0.3256 - val_loss: 0.4828\n",
      "Epoch 5/20\n",
      "500/500 [==============================] - 10s 20ms/step - loss: 0.3120 - val_loss: 0.4616\n",
      "Epoch 6/20\n",
      "500/500 [==============================] - 10s 20ms/step - loss: 0.3033 - val_loss: 0.4826\n",
      "Epoch 7/20\n",
      "500/500 [==============================] - 11s 22ms/step - loss: 0.2949 - val_loss: 0.4769\n",
      "Epoch 8/20\n",
      "500/500 [==============================] - 11s 22ms/step - loss: 0.2895 - val_loss: 0.5009\n",
      "Epoch 9/20\n",
      "500/500 [==============================] - 12s 25ms/step - loss: 0.2832 - val_loss: 0.4754\n",
      "Epoch 10/20\n",
      "500/500 [==============================] - 11s 23ms/step - loss: 0.2781 - val_loss: 0.4714\n",
      "Epoch 11/20\n",
      "500/500 [==============================] - 12s 24ms/step - loss: 0.2748 - val_loss: 0.4945\n",
      "Epoch 12/20\n",
      "500/500 [==============================] - 14s 29ms/step - loss: 0.2704 - val_loss: 0.4869\n",
      "Epoch 13/20\n",
      "500/500 [==============================] - 14s 29ms/step - loss: 0.2661 - val_loss: 0.4946\n",
      "Epoch 14/20\n",
      "500/500 [==============================] - 14s 28ms/step - loss: 0.2633 - val_loss: 0.4731\n",
      "Epoch 15/20\n",
      "500/500 [==============================] - 14s 28ms/step - loss: 0.2613 - val_loss: 0.4895\n",
      "Epoch 16/20\n",
      "500/500 [==============================] - 14s 29ms/step - loss: 0.2580 - val_loss: 0.4774\n",
      "Epoch 17/20\n",
      "500/500 [==============================] - 14s 29ms/step - loss: 0.2542 - val_loss: 0.4731\n",
      "Epoch 18/20\n",
      "500/500 [==============================] - 14s 29ms/step - loss: 0.2529 - val_loss: 0.4821\n",
      "Epoch 19/20\n",
      "500/500 [==============================] - 14s 28ms/step - loss: 0.2499 - val_loss: 0.4741\n",
      "Epoch 20/20\n",
      "500/500 [==============================] - 14s 28ms/step - loss: 0.2476 - val_loss: 0.4942\n"
     ]
    }
   ],
   "source": [
    "from keras.models import Sequential\n",
    "from keras import layers\n",
    "from keras.optimizers import RMSprop\n",
    "\n",
    "model = Sequential()\n",
    "model.add(layers.Conv1D(32, 5, activation='relu',\n",
    "                        input_shape=(None, float_data.shape[-1])))\n",
    "model.add(layers.MaxPooling1D(3))\n",
    "model.add(layers.Conv1D(32, 5, activation='relu'))\n",
    "model.add(layers.MaxPooling1D(3))\n",
    "model.add(layers.Conv1D(32, 5, activation='relu'))\n",
    "model.add(layers.GlobalMaxPooling1D())\n",
    "model.add(layers.Dense(1))\n",
    "\n",
    "model.compile(optimizer=RMSprop(), loss='mae')\n",
    "history = model.fit_generator(train_gen,\n",
    "                              steps_per_epoch=500,\n",
    "                              epochs=20,\n",
    "                              validation_data=val_gen,\n",
    "                              validation_steps=val_steps)"
   ]
  },
  {
   "cell_type": "code",
   "execution_count": 12,
   "metadata": {
    "ExecuteTime": {
     "end_time": "2018-09-18T06:52:55.212435Z",
     "start_time": "2018-09-18T06:52:54.978714Z"
    }
   },
   "outputs": [
    {
     "data": {
      "image/png": "[encoded data removed]",
      "text/plain": [
       "<Figure size 720x432 with 1 Axes>"
      ]
     },
     "metadata": {},
     "output_type": "display_data"
    }
   ],
   "source": [
    "loss = history.history['loss']\n",
    "val_loss = history.history['val_loss']\n",
    "\n",
    "epochs = range(1, len(loss) + 1)\n",
    "\n",
    "plt.figure(figsize=(10, 6))\n",
    "plt.plot(epochs, loss, 'bo', label='Training loss')\n",
    "plt.plot(epochs, val_loss, 'b', label='Validation loss')\n",
    "plt.legend()\n",
    "plt.title('Training and validation loss', fontsize=14)\n",
    "plt.show()"
   ]
  },
  {
   "cell_type": "markdown",
   "metadata": {},
   "source": [
    "验证MAE在0.45-0.5，使用小型的卷积神经网络甚至无法击败基于常识的基准方法。卷积神经网络在输入时间序列的所有位置寻找模式，它并不知道所看到摸个模式的时间位置。对于这个具体的预测问题，对最新数据点的解释与对较早数据点的解释应该并不相同，所以卷积神经网络无法得到有意义的结果。卷积神经网络的这种限制对于IMDB数据来说不是问题，因为对于与正面情绪或负面情绪相关联的关键词模式，无论出现在输入句中的什么位置，它所包含的信息量都是一样的。"
   ]
  },
  {
   "cell_type": "markdown",
   "metadata": {},
   "source": [
    "想要**结合卷积神经网络的速度和轻量与RNN的顺序敏感性**，一种方法是**在RNN前面使用一维卷积神经网络作为数据预处理步骤**。对于那些非常长，以至于RNN无法处理的序列（比如包含上千个时间步的序列），这种方法尤其有用。卷积神经网络可以将长的输入序列转换为高级特征组成的更短序列（下采样）。然后，提取的特征组成的这些序列成为网络中RNN的输入。"
   ]
  },
  {
   "cell_type": "code",
   "execution_count": 13,
   "metadata": {
    "ExecuteTime": {
     "end_time": "2018-09-18T06:52:55.237858Z",
     "start_time": "2018-09-18T06:52:55.214209Z"
    },
    "collapsed": true
   },
   "outputs": [],
   "source": [
    "lookback = 720\n",
    "step = 3\n",
    "delay = 144\n",
    "batch_size = 128\n",
    "\n",
    "train_gen = generator(float_data, lookback=lookback, delay=delay,\n",
    "                      min_index=0, max_index=200000, shuffle=True,\n",
    "                      step=step, batch_size=batch_size)\n",
    "\n",
    "val_gen = generator(float_data, lookback=lookback, delay=delay,\n",
    "                    min_index=200001, max_index=300000,\n",
    "                    step=step, batch_size=batch_size)\n",
    "\n",
    "test_gen = generator(float_data, lookback=lookback, delay=delay,\n",
    "                     min_index=300001, max_index=None,\n",
    "                     step=step, batch_size=batch_size)\n",
    "\n",
    "# This is how many steps to draw from `val_gen`\n",
    "# in order to see the whole validation set:\n",
    "val_steps = (300000 - 200001 - lookback) // batch_size\n",
    "\n",
    "# This is how many steps to draw from `test_gen`\n",
    "# in order to see the whole test set:\n",
    "test_steps = (len(float_data) - 300001 - lookback) // batch_size"
   ]
  },
  {
   "cell_type": "code",
   "execution_count": 14,
   "metadata": {
    "ExecuteTime": {
     "end_time": "2018-09-18T06:52:55.692811Z",
     "start_time": "2018-09-18T06:52:55.240786Z"
    }
   },
   "outputs": [
    {
     "name": "stdout",
     "output_type": "stream",
     "text": [
      "_________________________________________________________________\n",
      "Layer (type)                 Output Shape              Param #   \n",
      "=================================================================\n",
      "conv1d_6 (Conv1D)            (None, None, 32)          2272      \n",
      "_________________________________________________________________\n",
      "max_pooling1d_4 (MaxPooling1 (None, None, 32)          0         \n",
      "_________________________________________________________________\n",
      "conv1d_7 (Conv1D)            (None, None, 32)          5152      \n",
      "_________________________________________________________________\n",
      "gru_1 (GRU)                  (None, 32)                6240      \n",
      "_________________________________________________________________\n",
      "dense_3 (Dense)              (None, 1)                 33        \n",
      "=================================================================\n",
      "Total params: 13,697\n",
      "Trainable params: 13,697\n",
      "Non-trainable params: 0\n",
      "_________________________________________________________________\n"
     ]
    }
   ],
   "source": [
    "from keras.models import Sequential\n",
    "from keras import layers\n",
    "from keras.optimizers import RMSprop\n",
    "\n",
    "model = Sequential()\n",
    "model.add(layers.Conv1D(32, 5, activation='relu',\n",
    "                        input_shape=(None, float_data.shape[-1])))\n",
    "model.add(layers.MaxPooling1D(3))\n",
    "model.add(layers.Conv1D(32, 5, activation='relu'))\n",
    "model.add(layers.GRU(32, dropout=0.1, recurrent_dropout=0.5))\n",
    "model.add(layers.Dense(1))\n",
    "\n",
    "model.summary()"
   ]
  },
  {
   "cell_type": "code",
   "execution_count": 15,
   "metadata": {
    "ExecuteTime": {
     "end_time": "2018-09-18T07:11:10.458940Z",
     "start_time": "2018-09-18T06:52:55.694418Z"
    }
   },
   "outputs": [
    {
     "name": "stdout",
     "output_type": "stream",
     "text": [
      "Epoch 1/20\n",
      "500/500 [==============================] - 71s 143ms/step - loss: 0.3434 - val_loss: 0.2880\n",
      "Epoch 2/20\n",
      "500/500 [==============================] - 70s 140ms/step - loss: 0.3053 - val_loss: 0.2826\n",
      "Epoch 3/20\n",
      "500/500 [==============================] - 66s 133ms/step - loss: 0.2943 - val_loss: 0.2756\n",
      "Epoch 4/20\n",
      "500/500 [==============================] - 54s 108ms/step - loss: 0.2845 - val_loss: 0.2762\n",
      "Epoch 5/20\n",
      "500/500 [==============================] - 52s 103ms/step - loss: 0.2778 - val_loss: 0.2902\n",
      "Epoch 6/20\n",
      "500/500 [==============================] - 51s 102ms/step - loss: 0.2717 - val_loss: 0.2858\n",
      "Epoch 7/20\n",
      "500/500 [==============================] - 51s 102ms/step - loss: 0.2666 - val_loss: 0.3002\n",
      "Epoch 8/20\n",
      "500/500 [==============================] - 51s 103ms/step - loss: 0.2613 - val_loss: 0.2879\n",
      "Epoch 9/20\n",
      "500/500 [==============================] - 53s 105ms/step - loss: 0.2576 - val_loss: 0.2787\n",
      "Epoch 10/20\n",
      "500/500 [==============================] - 51s 102ms/step - loss: 0.2541 - val_loss: 0.2815\n",
      "Epoch 11/20\n",
      "500/500 [==============================] - 50s 99ms/step - loss: 0.2505 - val_loss: 0.2869\n",
      "Epoch 12/20\n",
      "500/500 [==============================] - 56s 112ms/step - loss: 0.2468 - val_loss: 0.3014\n",
      "Epoch 13/20\n",
      "500/500 [==============================] - 55s 110ms/step - loss: 0.2440 - val_loss: 0.2898\n",
      "Epoch 14/20\n",
      "500/500 [==============================] - 55s 111ms/step - loss: 0.2417 - val_loss: 0.2938\n",
      "Epoch 15/20\n",
      "500/500 [==============================] - 55s 109ms/step - loss: 0.2396 - val_loss: 0.2969\n",
      "Epoch 16/20\n",
      "500/500 [==============================] - 52s 105ms/step - loss: 0.2384 - val_loss: 0.2888\n",
      "Epoch 17/20\n",
      "500/500 [==============================] - 50s 100ms/step - loss: 0.2348 - val_loss: 0.2896\n",
      "Epoch 18/20\n",
      "500/500 [==============================] - 50s 100ms/step - loss: 0.2323 - val_loss: 0.2947\n",
      "Epoch 19/20\n",
      "500/500 [==============================] - 50s 100ms/step - loss: 0.2299 - val_loss: 0.2976\n",
      "Epoch 20/20\n",
      "500/500 [==============================] - 50s 100ms/step - loss: 0.2285 - val_loss: 0.2980\n"
     ]
    }
   ],
   "source": [
    "model.compile(optimizer=RMSprop(), loss='mae')\n",
    "history = model.fit_generator(train_gen,\n",
    "                              steps_per_epoch=500,\n",
    "                              epochs=20,\n",
    "                              validation_data=val_gen,\n",
    "                              validation_steps=val_steps)"
   ]
  },
  {
   "cell_type": "code",
   "execution_count": 16,
   "metadata": {
    "ExecuteTime": {
     "end_time": "2018-09-18T08:04:19.603191Z",
     "start_time": "2018-09-18T08:04:19.419232Z"
    }
   },
   "outputs": [
    {
     "data": {
      "image/png": "[encoded data removed]",
      "text/plain": [
       "<Figure size 720x432 with 1 Axes>"
      ]
     },
     "metadata": {},
     "output_type": "display_data"
    }
   ],
   "source": [
    "loss = history.history['loss']\n",
    "val_loss = history.history['val_loss']\n",
    "\n",
    "epochs = range(1, len(loss) + 1)\n",
    "\n",
    "plt.figure(figsize=(10, 6))\n",
    "plt.plot(epochs, loss, 'bo', label='Training loss')\n",
    "plt.plot(epochs, val_loss, 'b', label='Validation loss')\n",
    "plt.legend()\n",
    "plt.title('Training and validation loss', fontsize=14)\n",
    "plt.show()"
   ]
  },
  {
   "cell_type": "markdown",
   "metadata": {},
   "source": [
    "这种架构不如只用正则化GRU，但速度快了很多。在本例中不是很有用，但对于其他数据集可能非常重要。"
   ]
  }
 ],
 "metadata": {
  "kernelspec": {
   "display_name": "Python [conda env:tf]",
   "language": "python",
   "name": "conda-env-tf-py"
  },
  "language_info": {
   "codemirror_mode": {
    "name": "ipython",
    "version": 3
   },
   "file_extension": ".py",
   "mimetype": "text/x-python",
   "name": "python",
   "nbconvert_exporter": "python",
   "pygments_lexer": "ipython3",
   "version": "3.6.2"
  },
  "toc": {
   "base_numbering": 1,
   "nav_menu": {},
   "number_sections": true,
   "sideBar": true,
   "skip_h1_title": false,
   "title_cell": "Table of Contents",
   "title_sidebar": "Contents",
   "toc_cell": false,
   "toc_position": {},
   "toc_section_display": true,
   "toc_window_display": false
  },
  "varInspector": {
   "cols": {
    "lenName": 16,
    "lenType": 16,
    "lenVar": 40
   },
   "kernels_config": {
    "python": {
     "delete_cmd_postfix": "",
     "delete_cmd_prefix": "del ",
     "library": "var_list.py",
     "varRefreshCmd": "print(var_dic_list())"
    },
    "r": {
     "delete_cmd_postfix": ") ",
     "delete_cmd_prefix": "rm(",
     "library": "var_list.r",
     "varRefreshCmd": "cat(var_dic_list()) "
    }
   },
   "types_to_exclude": [
    "module",
    "function",
    "builtin_function_or_method",
    "instance",
    "_Feature"
   ],
   "window_display": false
  }
 },
 "nbformat": 4,
 "nbformat_minor": 2
}
